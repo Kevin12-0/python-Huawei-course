{
 "cells": [
  {
   "cell_type": "markdown",
   "metadata": {},
   "source": [
    "# 4. Functions in Python"
   ]
  },
  {
   "cell_type": "markdown",
   "metadata": {},
   "source": [
    "## 4.1 Functions\n",
    "\n",
    "In adition to built-in functions, we can define our awn functions by def statement and lambda statement."
   ]
  },
  {
   "cell_type": "code",
   "execution_count": 1,
   "metadata": {},
   "outputs": [
    {
     "name": "stdout",
     "output_type": "stream",
     "text": [
      "hello\n",
      "world\n"
     ]
    }
   ],
   "source": [
    "def func():\n",
    "    print('hello')\n",
    "    print('world')\n",
    "    \n",
    "func()"
   ]
  },
  {
   "cell_type": "markdown",
   "metadata": {},
   "source": [
    "There are multiple ways to pass data to a function:\n",
    "\n",
    "* positional arguments\n",
    "* default arguments\n",
    "* keyword arguments\n",
    "* arbitrary positional arguments\n",
    "* arbitrary keyword arguments"
   ]
  },
  {
   "cell_type": "code",
   "execution_count": 7,
   "metadata": {},
   "outputs": [
    {
     "name": "stdout",
     "output_type": "stream",
     "text": [
      "a: 128\n",
      "b: 2\n",
      "args: %d ()\n",
      "\n"
     ]
    }
   ],
   "source": [
    "def f(a=128,b=2, *args, **kwargs):\n",
    "    print('a: %d' %(a))\n",
    "    print('b: %d' %(b))\n",
    "    print('args: %d', args)\n",
    "    for key, value in kwargs.items():\n",
    "        print('%s is %s'%(key, value))\n",
    "    print()\n",
    "    \n",
    "\"\"\" default arguments \"\"\"\n",
    "\n",
    "f()"
   ]
  },
  {
   "cell_type": "code",
   "execution_count": 6,
   "metadata": {},
   "outputs": [
    {
     "name": "stdout",
     "output_type": "stream",
     "text": [
      "a: 0\n",
      "b: 4\n",
      "args: %d ()\n",
      "\n"
     ]
    }
   ],
   "source": [
    "\"\"\" positional arguments \"\"\"\n",
    "f(0,4)"
   ]
  },
  {
   "cell_type": "code",
   "execution_count": 8,
   "metadata": {},
   "outputs": [
    {
     "name": "stdout",
     "output_type": "stream",
     "text": [
      "a: 0\n",
      "b: 4\n",
      "args: %d ()\n",
      "\n"
     ]
    }
   ],
   "source": [
    "\"\"\" keyword arguments \"\"\"\n",
    "f(b=4,a=0)"
   ]
  },
  {
   "cell_type": "code",
   "execution_count": 9,
   "metadata": {},
   "outputs": [
    {
     "name": "stdout",
     "output_type": "stream",
     "text": [
      "a: 1\n",
      "b: 2\n",
      "args: %d (3, 4, 5)\n",
      "\n"
     ]
    }
   ],
   "source": [
    "\"\"\" \n",
    "    def f(a=128,b=2, *args, **kwargs):\n",
    "        print('a: %d' %(a))\n",
    "        print('b: %d' %(b))\n",
    "        print('args: %d', args)\n",
    "        for key, value in kwargs.items():\n",
    "            print('%s is %s'%(key, value))\n",
    "        print()\n",
    "\"\"\"\n",
    "\n",
    "\"\"\" arbitrary positional arguments \"\"\"\n",
    "\n",
    "f(1,2,3,4,5)"
   ]
  },
  {
   "cell_type": "code",
   "execution_count": 10,
   "metadata": {},
   "outputs": [
    {
     "name": "stdout",
     "output_type": "stream",
     "text": [
      "a: 128\n",
      "b: 2\n",
      "args: %d ()\n",
      "cat is animal\n",
      "dog is animal\n",
      "cheese is food\n",
      "\n"
     ]
    }
   ],
   "source": [
    "\"\"\" \n",
    "    def f(a=128,b=2, *args, **kwargs):\n",
    "        print('a: %d' %(a))\n",
    "        print('b: %d' %(b))\n",
    "        print('args: %d', args)\n",
    "        for key, value in kwargs.items():\n",
    "            print('%s is %s'%(key, value))\n",
    "        print()\n",
    "\"\"\"\n",
    "\n",
    "\"\"\" arbitrary keyword arguments \"\"\"\n",
    "\n",
    "f(cat='animal', dog='animal', cheese='food')"
   ]
  },
  {
   "cell_type": "markdown",
   "metadata": {},
   "source": [
    "Return value"
   ]
  }
 ],
 "metadata": {
  "kernelspec": {
   "display_name": "python_course",
   "language": "python",
   "name": "python3"
  },
  "language_info": {
   "codemirror_mode": {
    "name": "ipython",
    "version": 3
   },
   "file_extension": ".py",
   "mimetype": "text/x-python",
   "name": "python",
   "nbconvert_exporter": "python",
   "pygments_lexer": "ipython3",
   "version": "3.11.5"
  }
 },
 "nbformat": 4,
 "nbformat_minor": 2
}
