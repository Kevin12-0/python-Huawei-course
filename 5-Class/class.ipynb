{
 "cells": [
  {
   "cell_type": "markdown",
   "metadata": {},
   "source": [
    "# 5. Object Orientes Programming\n",
    "\n",
    "\n",
    "object-oriented programming is a programing paradigm based on the consept of 'objects'\n",
    ", which can contain data (variables) and methods (functions).\n",
    "\n",
    "Advantages of Object-oriented programming:\n",
    "\n",
    "* Code reusably\n",
    "* Easier to maintain\n",
    "* Easier to extend\n",
    "\n",
    "\n",
    "## 5.1 class\n",
    "\n",
    "Python class provide all the standard features of object oriented Programming:\n",
    "\n",
    "* Encapsulation\n",
    "* Inheritance\n",
    "* Abstraction\n",
    "* Polymorphism"
   ]
  },
  {
   "cell_type": "code",
   "execution_count": 1,
   "metadata": {},
   "outputs": [],
   "source": [
    "\"\"\" Create a class that simulates a dog \"\"\"\n",
    "\n",
    "class Dog():\n",
    "    \n",
    "    def __init__(self, name, age):\n",
    "        self.name = name\n",
    "        self.age = age\n",
    "        \n",
    "    def sit(self):\n",
    "        print(self.name.title()+' is now sitting')\n",
    "        \n",
    "    def run(self):\n",
    "        print(self.name.title()+' is now running')"
   ]
  },
  {
   "cell_type": "code",
   "execution_count": 2,
   "metadata": {},
   "outputs": [
    {
     "name": "stdout",
     "output_type": "stream",
     "text": [
      "Husky is now sitting\n",
      "Husky is now running\n"
     ]
    }
   ],
   "source": [
    "\"\"\" instantiation \"\"\"\n",
    "\n",
    "my_dog = Dog('Husky',3)\n",
    "my_dog.sit()\n",
    "my_dog.run()"
   ]
  },
  {
   "cell_type": "markdown",
   "metadata": {},
   "source": [
    "we can alse add new data to an object"
   ]
  },
  {
   "cell_type": "code",
   "execution_count": 3,
   "metadata": {},
   "outputs": [
    {
     "name": "stdout",
     "output_type": "stream",
     "text": [
      "cat food\n"
     ]
    }
   ],
   "source": [
    "my_dog.food = 'cat food'\n",
    "print(my_dog.food)"
   ]
  },
  {
   "cell_type": "markdown",
   "metadata": {},
   "source": [
    "We can also re-define a class"
   ]
  },
  {
   "cell_type": "code",
   "execution_count": 4,
   "metadata": {},
   "outputs": [
    {
     "name": "stdout",
     "output_type": "stream",
     "text": [
      "Goodog has been created\n"
     ]
    }
   ],
   "source": [
    "class Dog(object):\n",
    "    def __init__(self, name):\n",
    "        self.name = name\n",
    "        print('%s has been created'%(self.name))\n",
    "my_dog = Dog('Goodog')"
   ]
  },
  {
   "cell_type": "markdown",
   "metadata": {},
   "source": [
    "Implement the str nethod"
   ]
  },
  {
   "cell_type": "code",
   "execution_count": 5,
   "metadata": {},
   "outputs": [
    {
     "name": "stdout",
     "output_type": "stream",
     "text": [
      "dog name: goodog\n"
     ]
    }
   ],
   "source": [
    "class Dog(object):\n",
    "    def __init__(self,name):\n",
    "        self.name = name\n",
    "    def __str__(self):\n",
    "        return 'dog name: '+ self.name\n",
    "    \n",
    "my_dog = Dog('goodog')\n",
    "print(my_dog)"
   ]
  },
  {
   "cell_type": "markdown",
   "metadata": {},
   "source": [
    "## 5.2 Encapsulation\n",
    "\n",
    "Encapsulation can be used to hide the values of data inside an object, preventing unauthorized parties from direct accesing them."
   ]
  },
  {
   "cell_type": "code",
   "execution_count": 6,
   "metadata": {},
   "outputs": [
    {
     "name": "stdout",
     "output_type": "stream",
     "text": [
      "100\n",
      "0\n"
     ]
    }
   ],
   "source": [
    "class SimpleCounter:\n",
    "    __secretCount = 0 #private variable\n",
    "    publicCount = 0 # public variable\n",
    "    def count(self):\n",
    "        try:    \n",
    "            self.__secretCount += 100\n",
    "            print(self.__secretCount)\n",
    "        except Exception as error:\n",
    "            print(error)\n",
    "counter = SimpleCounter()\n",
    "counter.count()\n",
    "print(counter.publicCount)"
   ]
  },
  {
   "cell_type": "code",
   "execution_count": 7,
   "metadata": {},
   "outputs": [
    {
     "ename": "AttributeError",
     "evalue": "'SimpleCounter' object has no attribute '__secretCounter'",
     "output_type": "error",
     "traceback": [
      "\u001b[1;31m---------------------------------------------------------------------------\u001b[0m",
      "\u001b[1;31mAttributeError\u001b[0m                            Traceback (most recent call last)",
      "\u001b[1;32md:\\python-Huawei-course\\5-Class\\class.ipynb Cell 12\u001b[0m line \u001b[0;36m1\n\u001b[1;32m----> <a href='vscode-notebook-cell:/d%3A/python-Huawei-course/5-Class/class.ipynb#X14sZmlsZQ%3D%3D?line=0'>1</a>\u001b[0m \u001b[39mprint\u001b[39m(counter\u001b[39m.\u001b[39;49m__secretCounter) \u001b[39m# Cannot access private variable directly\u001b[39;00m\n",
      "\u001b[1;31mAttributeError\u001b[0m: 'SimpleCounter' object has no attribute '__secretCounter'"
     ]
    }
   ],
   "source": [
    "print(counter.__secretCounter) # Cannot access private variable directly"
   ]
  },
  {
   "cell_type": "markdown",
   "metadata": {},
   "source": [
    "## 5.3 Inheritance\n",
    "\n",
    "Inheritance allows us to define a class that inherits all the methods and data from another class"
   ]
  },
  {
   "cell_type": "code",
   "execution_count": 8,
   "metadata": {},
   "outputs": [],
   "source": [
    "class Parent: # parent Class\n",
    "    parentAttr = 100\n",
    "    def __init__(self):\n",
    "        print('Instantiating parent')\n",
    "    def parentMethod(self):\n",
    "        print('parent method')\n",
    "    def setAttr(self, attr):\n",
    "        Parent.parentAttr = attr\n",
    "    def getAttr(self):\n",
    "        print('parent attribute: ', Parent.parentAttr)\n",
    "\n",
    "class Child(Parent): # child class\n",
    "    def __init__(self):\n",
    "        print('instantiating parent')\n",
    "    def childMethod(self):\n",
    "        print('parent method')\n",
    "    def getAttr(self):\n",
    "        super().getAttr()\n",
    "        print('child says hello!')"
   ]
  },
  {
   "cell_type": "code",
   "execution_count": 9,
   "metadata": {},
   "outputs": [
    {
     "name": "stdout",
     "output_type": "stream",
     "text": [
      "instantiating parent\n",
      "parent method\n",
      "parent method\n",
      "parent attribute:  2000\n",
      "child says hello!\n"
     ]
    }
   ],
   "source": [
    "c = Child()\n",
    "c.childMethod()\n",
    "c.parentMethod()\n",
    "c.setAttr(2000)\n",
    "c.getAttr()"
   ]
  },
  {
   "cell_type": "code",
   "execution_count": 10,
   "metadata": {},
   "outputs": [
    {
     "name": "stdout",
     "output_type": "stream",
     "text": [
      "parent method\n"
     ]
    }
   ],
   "source": [
    "c.childMethod()"
   ]
  },
  {
   "cell_type": "markdown",
   "metadata": {},
   "source": [
    "## 5.4 Abstraction"
   ]
  },
  {
   "cell_type": "markdown",
   "metadata": {},
   "source": [
    "An abstract Class is a blueprint for other classes.We can create a set of methods that is requiered to be created within any child classes built from the abstract class.\n",
    "\n",
    "The main goal of abstraction is tho handle complexity by hiding details from the user.\n",
    "\n",
    "The ABC module provideds the infraestrcture for defining abstract base classes (ABCs) in python."
   ]
  },
  {
   "cell_type": "code",
   "execution_count": 11,
   "metadata": {},
   "outputs": [
    {
     "ename": "NameError",
     "evalue": "name 'sdsa' is not defined",
     "output_type": "error",
     "traceback": [
      "\u001b[1;31m---------------------------------------------------------------------------\u001b[0m",
      "\u001b[1;31mNameError\u001b[0m                                 Traceback (most recent call last)",
      "\u001b[1;32md:\\python-Huawei-course\\5-Class\\class.ipynb Cell 19\u001b[0m line \u001b[0;36m1\n\u001b[1;32m----> <a href='vscode-notebook-cell:/d%3A/python-Huawei-course/5-Class/class.ipynb#X23sZmlsZQ%3D%3D?line=0'>1</a>\u001b[0m sdsa\n",
      "\u001b[1;31mNameError\u001b[0m: name 'sdsa' is not defined"
     ]
    }
   ],
   "source": [
    "from abc import ABC, abstractmethod\n",
    "\n",
    "class Animal(ABC):\n",
    "    @abstractmethod\n",
    "    def eats_grass(self):\n",
    "        pass\n"
   ]
  }
 ],
 "metadata": {
  "kernelspec": {
   "display_name": "Python 3",
   "language": "python",
   "name": "python3"
  },
  "language_info": {
   "codemirror_mode": {
    "name": "ipython",
    "version": 3
   },
   "file_extension": ".py",
   "mimetype": "text/x-python",
   "name": "python",
   "nbconvert_exporter": "python",
   "pygments_lexer": "ipython3",
   "version": "3.12.0"
  }
 },
 "nbformat": 4,
 "nbformat_minor": 2
}
