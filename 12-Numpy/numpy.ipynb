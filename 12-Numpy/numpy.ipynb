{
 "cells": [
  {
   "cell_type": "markdown",
   "metadata": {},
   "source": [
    "# Instalaccion\n",
    "\n",
    "```\n",
    "pip install pandas\n",
    "```\n"
   ]
  },
  {
   "cell_type": "markdown",
   "metadata": {},
   "source": [
    "# 01 Pandas\n",
    "\n",
    "Numpy´s main object is the homogeneous multimencional array. It is a tabale of element (usually numbers), all of the same type, indexed by a tuple of non-negatives intergers. In NumPy dimensions are calles axes\n"
   ]
  },
  {
   "cell_type": "code",
   "execution_count": 1,
   "metadata": {},
   "outputs": [],
   "source": [
    "import numpy as np"
   ]
  },
  {
   "cell_type": "markdown",
   "metadata": {},
   "source": [
    "# 1. Array creation\n",
    "\n",
    "- np.arry()\n",
    "- np.zeros()\n",
    "- np.ones()\n",
    "- np.empty()\n",
    "- np.eye()\n",
    "- np.asarray()\n",
    "- numpy.arrange()\n",
    "- np.linspace()\n",
    "\n",
    "# 1.1 np.array()\n",
    "\n",
    "Create an array\n",
    "\n",
    "- np.array(object,dtype=None, copy = True, order = 'K', subok=False, ndim = 0)\n"
   ]
  },
  {
   "cell_type": "code",
   "execution_count": 2,
   "metadata": {},
   "outputs": [
    {
     "name": "stdout",
     "output_type": "stream",
     "text": [
      "one dimensional array:  [1 2 3 4 5 6]\n"
     ]
    }
   ],
   "source": [
    "a = np.array([1, 2, 3, 4, 5, 6])  # create a one-dimensional array\n",
    "print(\"one dimensional array: \", a)"
   ]
  },
  {
   "cell_type": "markdown",
   "metadata": {},
   "source": [
    "array transforms sequences of sequences into two-dimencional arrays, sequences of sequences of sequences into three-dimecional arrays and so on.\n"
   ]
  },
  {
   "cell_type": "code",
   "execution_count": 3,
   "metadata": {},
   "outputs": [
    {
     "name": "stdout",
     "output_type": "stream",
     "text": [
      "multidimensional array: \n",
      " [[1 2 3]\n",
      " [4 5 6]]\n"
     ]
    }
   ],
   "source": [
    "b = np.array([[1, 2, 3], [4, 5, 6]])\n",
    "print(\"multidimensional array: \\n\", b)"
   ]
  },
  {
   "cell_type": "markdown",
   "metadata": {},
   "source": [
    "# 1.2 np.zeros(), np.one(), np.empty()\n",
    "\n",
    "Often the elements of an array are originally unknown, but its size is known. Hence, Numpy offers several funtions to create arrays with initial placeholder content. These minimize the necesary of growing arrays, and expensive operation.\n",
    "\n",
    "The funcion zeros creates an array full of zeros, the funcions ones creates an array full ones, and the function empty creates an array whosae initial content is random and depends on the state of the memeory. Be default, the dtype of the created array is float64. np.zeros(shape, dtype = float, order = 'C')\n",
    "\n",
    "- np.zeros(shape, dtype = float, order = 'C')\n",
    "- np.ones(shape, dtype = float, order = 'C')\n",
    "- np.empty(shape, dtype = float, order = 'C')\n"
   ]
  },
  {
   "cell_type": "code",
   "execution_count": 4,
   "metadata": {},
   "outputs": [
    {
     "name": "stdout",
     "output_type": "stream",
     "text": [
      "array full of zeros \n",
      " [[0. 0.]\n",
      " [0. 0.]]\n"
     ]
    }
   ],
   "source": [
    "c = np.zeros([2, 2])\n",
    "print(\"array full of zeros \\n\", c)"
   ]
  },
  {
   "cell_type": "code",
   "execution_count": 5,
   "metadata": {},
   "outputs": [
    {
     "name": "stdout",
     "output_type": "stream",
     "text": [
      "array full of ones: \n",
      " [[1. 1.]\n",
      " [1. 1.]]\n"
     ]
    }
   ],
   "source": [
    "d = np.ones([2, 2])\n",
    "print(\"array full of ones: \\n\", d)"
   ]
  },
  {
   "cell_type": "code",
   "execution_count": 6,
   "metadata": {},
   "outputs": [
    {
     "name": "stdout",
     "output_type": "stream",
     "text": [
      "array whose initial content is random: \n",
      " [[1.23419914e-311 3.16202013e-322 0.00000000e+000 0.00000000e+000]\n",
      " [7.15563577e-069 8.69875793e-071 5.24244976e+174 2.04165144e+184]\n",
      " [8.02857637e-042 2.21499709e-056 1.45166083e+165 5.15455468e-062]]\n"
     ]
    }
   ],
   "source": [
    "e = np.empty([3, 4])\n",
    "print(\"array whose initial content is random: \\n\", e)"
   ]
  },
  {
   "cell_type": "markdown",
   "metadata": {},
   "source": [
    "# 1.3 np.eye()\n",
    "\n",
    "Return a 2-D array with ones on the diagonal and zeros elsewhere.\n",
    "\n",
    "- np.eye(N,M=None,K=0,dtype=float,order='C')\n"
   ]
  },
  {
   "cell_type": "code",
   "execution_count": 7,
   "metadata": {},
   "outputs": [
    {
     "name": "stdout",
     "output_type": "stream",
     "text": [
      "[[1. 0. 0. 0. 0.]\n",
      " [0. 1. 0. 0. 0.]\n",
      " [0. 0. 1. 0. 0.]\n",
      " [0. 0. 0. 1. 0.]\n",
      " [0. 0. 0. 0. 1.]]\n"
     ]
    }
   ],
   "source": [
    "print(np.eye(5))"
   ]
  },
  {
   "cell_type": "markdown",
   "metadata": {},
   "source": [
    "# 1.4 np.asarray()\n",
    "\n",
    "convert the input to an array\n",
    "\n",
    "- np.asarray(a, dtype = None, order = None)\n"
   ]
  },
  {
   "cell_type": "code",
   "execution_count": 8,
   "metadata": {},
   "outputs": [
    {
     "name": "stdout",
     "output_type": "stream",
     "text": [
      "one-dimencional array: \n",
      " [1 2 3 4 5 6]\n"
     ]
    }
   ],
   "source": [
    "e = np.asarray([1, 2, 3, 4, 5, 6])\n",
    "print(\"one-dimencional array: \\n\", e)"
   ]
  },
  {
   "cell_type": "markdown",
   "metadata": {},
   "source": [
    "# 1.5 the diference between array() and asarray()\n",
    "\n",
    "The main difference is that array (by default) will make a copy of the object, while asarray will not unless necessary.\n"
   ]
  },
  {
   "cell_type": "code",
   "execution_count": 9,
   "metadata": {},
   "outputs": [
    {
     "name": "stdout",
     "output_type": "stream",
     "text": [
      "data not changed: \n",
      " False\n",
      "data changed: \n",
      " False\n",
      "data not changed: \n",
      " True\n",
      "data changed: \n",
      "  False\n"
     ]
    }
   ],
   "source": [
    "a = np.array([1, 2], dtype=np.float32)\n",
    "print(\"data not changed: \\n\", np.array(a, dtype=np.float32) is a)\n",
    "print(\"data changed: \\n\", np.array(a, dtype=np.float64) is a)\n",
    "print(\"data not changed: \\n\", np.asarray(a, dtype=np.float32) is a)\n",
    "print(\"data changed: \\n \", np.asarray(a, dtype=np.float64) is a)"
   ]
  },
  {
   "cell_type": "markdown",
   "metadata": {},
   "source": [
    "# 1.6 np.arange()\n",
    "\n",
    "To create sequences of numbers, NumPy provides the arrange function which is analogs to the Python built-in range, but returns an array.\n",
    "\n",
    "- numpy.arange([start, ]stop,[step, ]dtype=None)\n",
    "  - start: number, optional; start of interval. The interval includes this value. The default start value is 0.\n",
    "  - stop: number, end of interval. The interval. The interval does not include this value, exept in some cases where step is not an interger and floating point roud-off affects the length of out.\n",
    "  - step: number,optional; Spacing between values. For any output out, this is the distance between two adjacent vales, out[i+1]-out[i]. The default step is 1. Is step is specified as a position argument, start must also be given.\n"
   ]
  },
  {
   "cell_type": "code",
   "execution_count": 10,
   "metadata": {},
   "outputs": [
    {
     "name": "stdout",
     "output_type": "stream",
     "text": [
      "sequences of numbers in array:\n",
      " [10 12 14 16 18]\n"
     ]
    }
   ],
   "source": [
    "f = np.arange(10, 20, 2)\n",
    "print(\"sequences of numbers in array:\\n\", f)"
   ]
  },
  {
   "cell_type": "markdown",
   "metadata": {},
   "source": [
    "# 1.7 np.linspace()\n",
    "\n",
    "Return evenly spaced numbers over a specifiel interval\n",
    "\n",
    "Returns num evenly spaces samples, calculated over the interval [start, stop]\n",
    "\n",
    "The end point of the interval can optionally be excluded.\n",
    "\n",
    "- np.linspace(start,stop,num=50, endpoint=True, rststep=False, dtype = None, axis = 0)\n"
   ]
  },
  {
   "cell_type": "code",
   "execution_count": 11,
   "metadata": {},
   "outputs": [
    {
     "name": "stdout",
     "output_type": "stream",
     "text": [
      "[ 0. 11. 22. 33. 44. 55. 66. 77. 88. 99.]\n"
     ]
    }
   ],
   "source": [
    "g = np.linspace(0, 99, 10)\n",
    "print(g)"
   ]
  },
  {
   "cell_type": "markdown",
   "metadata": {},
   "source": [
    "# 2. Important attributes of an ndarray object\n",
    "\n",
    "- ndarray.ndim\n",
    "  - the number of axes (dimensions) of the array\n",
    "- ndarray.shape\n",
    "  - the dimensions of the array. This is a tuple of intergers indicating the size of the array in each dimension. For a matrix with n rows and n columns, shape will be (n,m). The length of the shape tuple is therefore the number of the axes, ndim.\n",
    "- ndarray.size\n",
    "  - the totla number of element of the array. This equal to the product of the elements of shape.\n",
    "- ndarray.dtype\n",
    "  * an object describing the type of the element in the array. One can create or specify dtype´s using standard Python types. Additionally NumPy provides types of its own. numpy.int32, numpy.int16, and numpy.float64 are some examples\n",
    "  *ndarray.data \\* teh bugger containing the actual elements of the array. Normally, we won´t need to use this attribute because we will access the element in an array usinfg indexing facilities.\n"
   ]
  },
  {
   "cell_type": "code",
   "execution_count": 12,
   "metadata": {},
   "outputs": [
    {
     "data": {
      "text/plain": [
       "(3, 2)"
      ]
     },
     "execution_count": 12,
     "metadata": {},
     "output_type": "execute_result"
    }
   ],
   "source": [
    "a = np.array([[1, 2], [3, 4], [5, 6]])\n",
    "a.shape"
   ]
  },
  {
   "cell_type": "code",
   "execution_count": 13,
   "metadata": {},
   "outputs": [
    {
     "data": {
      "text/plain": [
       "6"
      ]
     },
     "execution_count": 13,
     "metadata": {},
     "output_type": "execute_result"
    }
   ],
   "source": [
    "a.size"
   ]
  },
  {
   "cell_type": "code",
   "execution_count": 14,
   "metadata": {},
   "outputs": [
    {
     "data": {
      "text/plain": [
       "2"
      ]
     },
     "execution_count": 14,
     "metadata": {},
     "output_type": "execute_result"
    }
   ],
   "source": [
    "a.ndim"
   ]
  },
  {
   "cell_type": "code",
   "execution_count": 15,
   "metadata": {},
   "outputs": [
    {
     "data": {
      "text/plain": [
       "dtype('int32')"
      ]
     },
     "execution_count": 15,
     "metadata": {},
     "output_type": "execute_result"
    }
   ],
   "source": [
    "a.dtype"
   ]
  },
  {
   "cell_type": "markdown",
   "metadata": {},
   "source": [
    "# 3. Indexing, Slicing ans Iterating\n",
    "\n",
    "ndrrays can be indexed, sliced and iterated over, much like list and other Python sequences.\n"
   ]
  },
  {
   "cell_type": "code",
   "execution_count": 16,
   "metadata": {},
   "outputs": [
    {
     "name": "stdout",
     "output_type": "stream",
     "text": [
      "a: [[1 2]\n",
      " [3 4]]\n",
      "b: 2\n"
     ]
    }
   ],
   "source": [
    "# Indexing\n",
    "\n",
    "a = np.array([[1, 2], [3, 4]])\n",
    "b = a[0][1]\n",
    "print(\"a:\", a)\n",
    "print(\"b:\", b)"
   ]
  },
  {
   "cell_type": "code",
   "execution_count": 17,
   "metadata": {},
   "outputs": [
    {
     "name": "stdout",
     "output_type": "stream",
     "text": [
      "[2 4 6]\n",
      "[2 3 4 5 6 7]\n",
      "2\n",
      "[2 3 4 5 6 7 8 9]\n",
      "[0 1 2 3 4 5 6 7 8 9]\n"
     ]
    }
   ],
   "source": [
    "# Slicing\n",
    "\n",
    "a = np.arange(10)\n",
    "print(a[2:8:2])\n",
    "print(a[2:8])\n",
    "print(a[2])\n",
    "print(a[2:])\n",
    "print(a)"
   ]
  },
  {
   "cell_type": "markdown",
   "metadata": {},
   "source": [
    "# 4. Change the shape of array\n",
    "\n",
    "Gives a new shape to an array without changing its data\n",
    "\n",
    "- numpy.reshape(a, newshape, order = 'C')\n"
   ]
  },
  {
   "cell_type": "code",
   "execution_count": 18,
   "metadata": {},
   "outputs": [
    {
     "name": "stdout",
     "output_type": "stream",
     "text": [
      "[0 1 2 3 4 5]\n",
      "[[0 1 2]\n",
      " [3 4 5]]\n"
     ]
    }
   ],
   "source": [
    "a = np.arange(6)\n",
    "b = a.reshape(2, 3)\n",
    "print(a)\n",
    "print(b)"
   ]
  },
  {
   "cell_type": "markdown",
   "metadata": {},
   "source": [
    "# 5. Broadcasting\n",
    "\n",
    "The term broadcasting describes how numpy treats arrays with different shapes during arithmetic operations. Subject to certain constraints, the smaller array is 'bradcast' the larger array so taht they have compatible shapes. Broascasting provides a means of vectorizing array operatins so that looping occurs in C inteas of Python. It does this without making needless copies of data and usually leads to efficient alogorithm implemetations. There are, however, cases where broadcasting is a bad idea because it leads to inefficient use of a memory that slows computation.\n",
    "\n",
    "NumPy Operations are usuarlly done on pairs of arrays on a element-by-elemt basis. In the simplest case the two arrays must have exactly the same shape.\n"
   ]
  },
  {
   "cell_type": "code",
   "execution_count": 19,
   "metadata": {},
   "outputs": [
    {
     "name": "stdout",
     "output_type": "stream",
     "text": [
      "[ 1  4  9 16]\n"
     ]
    }
   ],
   "source": [
    "a = np.array([1, 2, 3, 4])\n",
    "b = np.array([1, 2, 3, 4])\n",
    "c = a * b\n",
    "print(c)"
   ]
  },
  {
   "cell_type": "markdown",
   "metadata": {},
   "source": [
    "When operating on two arrays, NumPy compares their shapes element-wise. It starts with the trailing dimensions and works its way foward. Two dimensions are compatible when\n",
    "\n",
    "- they are equal, or\n",
    "- one of them is 1\n",
    "\n",
    "If these conditions are not met, a ValueError: operands cloud not be together exception is thrown, indicating that the arrys have imcompatible shapes. The size of the resulting arrays is the size is not 1 along each axis of the inputs.\n",
    "\n",
    "Arrsys do not need to have the same number of dimensions. For example, if yopu have a 256x256x3 array of RGB values, and you want to scale each color in the image by diferent value, you can multiply the imagen by one-dimencional array with 3 values\n"
   ]
  },
  {
   "cell_type": "code",
   "execution_count": 20,
   "metadata": {},
   "outputs": [
    {
     "name": "stdout",
     "output_type": "stream",
     "text": [
      "(3, 3)\n",
      "(3,)\n"
     ]
    }
   ],
   "source": [
    "a = np.array([[1, 2, 3], [4, 5, 6], [7, 8, 9]])\n",
    "b = np.array([1, 2, 3])\n",
    "print(a.shape)\n",
    "print(b.shape)"
   ]
  },
  {
   "cell_type": "code",
   "execution_count": 21,
   "metadata": {},
   "outputs": [
    {
     "data": {
      "text/plain": [
       "array([[1, 2, 3],\n",
       "       [1, 2, 3],\n",
       "       [1, 2, 3]])"
      ]
     },
     "execution_count": 21,
     "metadata": {},
     "output_type": "execute_result"
    }
   ],
   "source": [
    "np.array([b, b, b])"
   ]
  },
  {
   "cell_type": "code",
   "execution_count": 22,
   "metadata": {},
   "outputs": [
    {
     "name": "stdout",
     "output_type": "stream",
     "text": [
      "a:\n",
      " [[1 2 3]\n",
      " [4 5 6]\n",
      " [7 8 9]]\n",
      "bradcasting:\n",
      " [[ 2  4  6]\n",
      " [ 5  7  9]\n",
      " [ 8 10 12]]\n"
     ]
    }
   ],
   "source": [
    "c = a + b\n",
    "print(\"a:\\n\", a)\n",
    "print(\"bradcasting:\\n\", c)"
   ]
  },
  {
   "cell_type": "markdown",
   "metadata": {},
   "source": [
    "# 6, NumPy common functions\n",
    "\n",
    "## 6.1 ndarray.flat()\n",
    "\n",
    "A 1-D iterator over the array.\n",
    "\n",
    "This is a numpy.flatier instance, wich acts similarly to, but us not a subclass of, Python´s built-in iterator object.\n"
   ]
  },
  {
   "cell_type": "code",
   "execution_count": 23,
   "metadata": {},
   "outputs": [
    {
     "name": "stdout",
     "output_type": "stream",
     "text": [
      "[[1 2 3]\n",
      " [4 5 6]\n",
      " [7 8 9]]\n",
      "[1 2 3 4 5 6 7 8 9]\n"
     ]
    }
   ],
   "source": [
    "a = np.array([[1, 2, 3], [4, 5, 6], [7, 8, 9]])\n",
    "print(a)\n",
    "print(a.flat[:])"
   ]
  },
  {
   "cell_type": "markdown",
   "metadata": {},
   "source": [
    "## 6.2 ndarray.transpose()\n",
    "\n",
    "Retunrs a view of the array with axes transposed.\n"
   ]
  },
  {
   "cell_type": "code",
   "execution_count": 24,
   "metadata": {},
   "outputs": [
    {
     "name": "stdout",
     "output_type": "stream",
     "text": [
      "[[1 4 7]\n",
      " [2 5 8]\n",
      " [3 6 9]]\n"
     ]
    }
   ],
   "source": [
    "a = np.array([[1, 2, 3], [4, 5, 6], [7, 8, 9]])\n",
    "print(np.transpose(a))"
   ]
  },
  {
   "cell_type": "markdown",
   "metadata": {},
   "source": [
    "## 6.3 numpy.concatenate((a1,a2...), axis=0, out=None)\n",
    "\n",
    "join a sequence of arrays and existing axis.\n",
    "\n",
    "- a1, a2, ... : The arrays must have same shape, except in the dimencion corresponding to axis(the first, by default)\n",
    "- axis: the axis along which the arrys will be joined. If axis is None, arrays are flattened before use. Default is 0.\n"
   ]
  },
  {
   "cell_type": "code",
   "execution_count": 25,
   "metadata": {},
   "outputs": [
    {
     "name": "stdout",
     "output_type": "stream",
     "text": [
      "[[0 1 2]\n",
      " [3 4 5]]\n",
      "[[ 7  8  9]\n",
      " [10 11 12]]\n"
     ]
    }
   ],
   "source": [
    "a = np.arange(6).reshape(2, 3)\n",
    "b = np.arange(7, 13).reshape(2, 3)\n",
    "print(a)\n",
    "print(b)"
   ]
  },
  {
   "cell_type": "code",
   "execution_count": 26,
   "metadata": {},
   "outputs": [
    {
     "name": "stdout",
     "output_type": "stream",
     "text": [
      "[[ 0  1  2]\n",
      " [ 3  4  5]\n",
      " [ 7  8  9]\n",
      " [10 11 12]]\n",
      "[[ 0  1  2  7  8  9]\n",
      " [ 3  4  5 10 11 12]]\n"
     ]
    }
   ],
   "source": [
    "print(np.concatenate((a, b), axis=0))\n",
    "print(np.concatenate((a, b), axis=1))"
   ]
  },
  {
   "cell_type": "markdown",
   "metadata": {},
   "source": [
    "# numpy.stack(arrays, axis = 0 , out=None)\n",
    "\n",
    "Join a sequence of arrays along a new axis\n",
    "\n",
    "The axis parameters specifies the index of the new axis i n the dimensions of the result. For example, if axis = 0 it will be the first dimension and if axis=-1 it will be the las dimension.\n"
   ]
  },
  {
   "cell_type": "code",
   "execution_count": 27,
   "metadata": {},
   "outputs": [
    {
     "name": "stdout",
     "output_type": "stream",
     "text": [
      "c:\n",
      " [[1 2]\n",
      " [3 4]]\n",
      "d:\n",
      " [[1 3]\n",
      " [2 4]]\n"
     ]
    }
   ],
   "source": [
    "a = np.array([1, 2])\n",
    "b = np.array([3, 4])\n",
    "c = np.stack((a, b), 0)\n",
    "d = np.stack((a, b), 1)\n",
    "\n",
    "print(\"c:\\n\", c)\n",
    "print(\"d:\\n\", d)"
   ]
  },
  {
   "cell_type": "markdown",
   "metadata": {},
   "source": [
    "## 6.5 numpy.append(arr, values, axis = None)\n",
    "\n",
    "append values to the end on an array\n"
   ]
  },
  {
   "cell_type": "code",
   "execution_count": 28,
   "metadata": {},
   "outputs": [
    {
     "name": "stdout",
     "output_type": "stream",
     "text": [
      "b:\n",
      " [[1 2 3]\n",
      " [4 5 6]\n",
      " [7 8 9]]\n",
      "c:\n",
      " [1 2 3 4 5 6 7 8 9]\n"
     ]
    }
   ],
   "source": [
    "a = np.array([[1, 2, 3], [4, 5, 6]])\n",
    "b = np.append(a, [[7, 8, 9]], axis=0)\n",
    "c = np.append(a, [[7, 8, 9]])\n",
    "print(\"b:\\n\", b)\n",
    "print(\"c:\\n\", c)"
   ]
  },
  {
   "cell_type": "markdown",
   "metadata": {},
   "source": [
    "## 6.6 numpy.insert(arr,obje,values,acis=None)\n",
    "\n",
    "Insert values along the given axis before the given indices.\n"
   ]
  },
  {
   "cell_type": "code",
   "execution_count": 29,
   "metadata": {},
   "outputs": [
    {
     "name": "stdout",
     "output_type": "stream",
     "text": [
      "a=\n",
      " [[0 1 2]\n",
      " [3 4 5]]\n",
      "b=\n",
      " [[0 1 7 2]\n",
      " [3 4 8 5]]\n",
      "c=\n",
      " [0 1 7 8 2 3 4 5]\n"
     ]
    }
   ],
   "source": [
    "a = np.arange(6).reshape(2, 3)\n",
    "b = np.insert(a, 2, [7, 8], axis=1)\n",
    "c = np.insert(a, 2, [7, 8])\n",
    "print(\"a=\\n\", a)\n",
    "print(\"b=\\n\", b)\n",
    "print(\"c=\\n\", c)"
   ]
  },
  {
   "cell_type": "markdown",
   "metadata": {},
   "source": [
    "## 6.7 numpy.delete(arr,obj,axis=None)\n",
    "\n",
    "Return a new values array with sub-arrays along on axis deleted. For a one dimensional array, This returns those entries not returned by arr[obj]\n"
   ]
  },
  {
   "cell_type": "code",
   "execution_count": 30,
   "metadata": {},
   "outputs": [
    {
     "name": "stdout",
     "output_type": "stream",
     "text": [
      "a=\n",
      " [[0 1 2]\n",
      " [3 4 5]]\n",
      "b=\n",
      " [[0 2]\n",
      " [3 5]]\n",
      "c=\n",
      " [0 2 3 4 5]\n"
     ]
    }
   ],
   "source": [
    "a = np.arange(6).reshape(2, 3)\n",
    "b = np.delete(a, 1, axis=1)\n",
    "c = np.delete(a, 1)\n",
    "print(\"a=\\n\", a)\n",
    "print(\"b=\\n\", b)\n",
    "print(\"c=\\n\", c)"
   ]
  },
  {
   "cell_type": "markdown",
   "metadata": {},
   "source": [
    "# 7. Matrix\n",
    "\n",
    "This module contains all functions in the numpy namescape, with the following replacement functions that return matrices instead of ndarrys.\n",
    "\n",
    "- empty(shape[,dtype,order])\n",
    "  - Return a new matrix of given shape and type, without initializing entries.\n",
    "- zeros(shape[,dtype,order])\n",
    "  - Return a matrix of given shape ansd type, filled with zeros.\n",
    "- ones(shape[,dtype,order])\n",
    "  - Matrix of ones\n",
    "- eye(n[,M,k,dtype,order])\n",
    "  - Return a matrix with ones on the diagonal and zeros elsewhere\n",
    "- indentity(n[,dtype])\n",
    "  - returns the square identity matrix of given size\n",
    "- repmat(a,m,n)\n",
    "  - Return a 0-D to 2-D array or matrix MxN times.\n",
    "- rand(\\*args)\n",
    "  - return a matrix of random values with given shape.\n",
    "- randn(\\*args)\n",
    "  - Return a random matrix with data from the \"standard normal\" distribution.\n"
   ]
  },
  {
   "cell_type": "code",
   "execution_count": 31,
   "metadata": {},
   "outputs": [],
   "source": [
    "import numpy.matlib"
   ]
  },
  {
   "cell_type": "markdown",
   "metadata": {},
   "source": [
    "## 7.1 Create a matrix by np.matlib.zeros() and np.matlib.ones()\n"
   ]
  },
  {
   "cell_type": "code",
   "execution_count": 32,
   "metadata": {},
   "outputs": [
    {
     "name": "stdout",
     "output_type": "stream",
     "text": [
      "a=\n",
      " [[0. 0.]\n",
      " [0. 0.]]\n",
      "b=\n",
      " [[1. 1.]\n",
      " [1. 1.]]\n"
     ]
    }
   ],
   "source": [
    "a = np.matlib.zeros((2, 2))\n",
    "b = np.matlib.ones((2, 2))\n",
    "print(\"a=\\n\", a)\n",
    "print(\"b=\\n\", b)"
   ]
  },
  {
   "cell_type": "markdown",
   "metadata": {},
   "source": [
    "## 7.2 creat a diagonal matrix by np.matlib.eye()\n"
   ]
  },
  {
   "cell_type": "code",
   "execution_count": 33,
   "metadata": {},
   "outputs": [
    {
     "name": "stdout",
     "output_type": "stream",
     "text": [
      "c =\n",
      " [[1. 0. 0.]\n",
      " [0. 1. 0.]\n",
      " [0. 0. 1.]]\n"
     ]
    }
   ],
   "source": [
    "c = np.matlib.eye(3)\n",
    "print(\"c =\\n\", c)"
   ]
  },
  {
   "cell_type": "markdown",
   "metadata": {},
   "source": [
    "## 7.3 Transfer between array and matrix\n"
   ]
  },
  {
   "cell_type": "code",
   "execution_count": 34,
   "metadata": {},
   "outputs": [
    {
     "name": "stdout",
     "output_type": "stream",
     "text": [
      "[[1 2]\n",
      " [3 4]]\n",
      "<class 'numpy.matrix'>\n",
      "matrix a=\n",
      " [[1 2 3]\n",
      " [4 5 6]]\n",
      "<class 'numpy.matrix'>\n",
      "array b=\n",
      " [[1 2 3]\n",
      " [4 5 6]]\n",
      "<class 'numpy.ndarray'>\n"
     ]
    }
   ],
   "source": [
    "# transfer an array to a matrix\n",
    "\n",
    "d = np.array([[1, 2], [3, 4]])\n",
    "d = np.mat(d)\n",
    "print(d)\n",
    "print(type(d))\n",
    "\n",
    "# transfer a matrix to an array\n",
    "\n",
    "a = np.mat([[1, 2, 3], [4, 5, 6]])\n",
    "b = a.getA()\n",
    "print(\"matrix a=\\n\", a)\n",
    "print(type(a))\n",
    "print(\"array b=\\n\", b)\n",
    "print(type(b))"
   ]
  },
  {
   "cell_type": "markdown",
   "metadata": {},
   "source": [
    "## 7.4 randomly create a matrix by np.matlibh.rand()\n"
   ]
  },
  {
   "cell_type": "code",
   "execution_count": 35,
   "metadata": {},
   "outputs": [
    {
     "name": "stdout",
     "output_type": "stream",
     "text": [
      "a=\n",
      " [[0.49912909 0.65609584 0.68097353]\n",
      " [0.90010016 0.66474578 0.75511843]\n",
      " [0.62607392 0.55474016 0.50368843]]\n"
     ]
    }
   ],
   "source": [
    "a = np.matlib.rand(3, 3)\n",
    "print(\"a=\\n\", a)"
   ]
  },
  {
   "cell_type": "markdown",
   "metadata": {},
   "source": [
    "## 7.7 matrix operations\n",
    "\n",
    "matrix.dot(b, out=None)/numpy.dot(a,b,out=None)\n",
    "\n",
    "Dot product of two arrays\n",
    "\n",
    "Dot product of two arrays. Specifically.\n",
    "\n",
    "- If both a and b are 1-D arrays, it is inner product of vectors (withoujt complex conjugation)\n",
    "- if both a and b are 2-D arrsys, it is a matrix multiplication, but using matmul or a @ b is prefered\n",
    "- if both a and b are 0-D (scalar), it is equivalent to multiply and using numpy.multiply(a,b) or a \\* b\n",
    "- If a is an N-D array and b is a 1-D array, it is a sum product over the last axis of a and b.\n",
    "- If s is an N-D and b is an M-D array (where M>=2), it is a sum product over the las axis of a and the second-to-last axis of b:\n",
    "  - dot(a,b)[i,k,l] = sum(a[i,j...]\\*b[k,l...])\n"
   ]
  },
  {
   "cell_type": "code",
   "execution_count": 36,
   "metadata": {},
   "outputs": [
    {
     "name": "stdout",
     "output_type": "stream",
     "text": [
      "[[1 1]\n",
      " [2 2]]\n",
      "[[1 1]\n",
      " [2 2]]\n"
     ]
    }
   ],
   "source": [
    "a = np.array([[1, 0], [0, 1]])\n",
    "b = np.array([[1, 1], [2, 2]])\n",
    "print(np.dot(a, b))  # matrix multiplication\n",
    "print(a @ b)  # matrix multiplication"
   ]
  },
  {
   "cell_type": "markdown",
   "metadata": {},
   "source": [
    "multiply\n"
   ]
  },
  {
   "cell_type": "code",
   "execution_count": 37,
   "metadata": {},
   "outputs": [
    {
     "name": "stdout",
     "output_type": "stream",
     "text": [
      "[[1 0]\n",
      " [0 2]]\n",
      "[[1 0]\n",
      " [0 2]]\n"
     ]
    }
   ],
   "source": [
    "print(np.multiply(a, b))  # equivalent to multiply\n",
    "print(a * b)  # equivalent to multiply"
   ]
  },
  {
   "cell_type": "markdown",
   "metadata": {},
   "source": [
    "## 7.8 Matrix Inverse"
   ]
  },
  {
   "cell_type": "code",
   "execution_count": 39,
   "metadata": {},
   "outputs": [
    {
     "name": "stdout",
     "output_type": "stream",
     "text": [
      "matrix a:\n",
      " [[2 0 0]\n",
      " [0 1 0]\n",
      " [0 0 2]]\n",
      "matrix b:\n",
      " [[0.5 0.  0. ]\n",
      " [0.  1.  0. ]\n",
      " [0.  0.  0.5]]\n"
     ]
    }
   ],
   "source": [
    "a = np.matrix([[2, 0, 0], [0, 1, 0], [0, 0, 2]])\n",
    "b = a.I\n",
    "print(\"matrix a:\\n\", a)\n",
    "print(\"matrix b:\\n\", b)"
   ]
  },
  {
   "cell_type": "markdown",
   "metadata": {},
   "source": [
    "## 7.9 Determinant of a matrix"
   ]
  },
  {
   "cell_type": "code",
   "execution_count": 40,
   "metadata": {},
   "outputs": [
    {
     "name": "stdout",
     "output_type": "stream",
     "text": [
      "a:\n",
      " [[1 2]\n",
      " [3 4]]\n",
      "b:\n",
      " -2.0000000000000004\n"
     ]
    }
   ],
   "source": [
    "a = np.matrix([[1, 2], [3, 4]])\n",
    "b = np.linalg.det(a)\n",
    "print(\"a:\\n\", a)\n",
    "print(\"b:\\n\", b)"
   ]
  },
  {
   "cell_type": "markdown",
   "metadata": {},
   "source": [
    "## 7.10 sum, max, min"
   ]
  },
  {
   "cell_type": "code",
   "execution_count": 43,
   "metadata": {},
   "outputs": [
    {
     "name": "stdout",
     "output_type": "stream",
     "text": [
      "matrix a:\n",
      " [[1 2]\n",
      " [3 4]]\n",
      "b:\n",
      " [[4 6]]\n",
      "c:\n",
      " [[3]\n",
      " [7]]\n"
     ]
    }
   ],
   "source": [
    "a = np.matrix([[1, 2], [3, 4]])\n",
    "b = a.sum(axis=0) # sum by columns\n",
    "c = a.sum(axis=1) #sum by raws\n",
    "print(\"matrix a:\\n\", a)\n",
    "print(\"b:\\n\", b)\n",
    "print(\"c:\\n\", c)"
   ]
  },
  {
   "cell_type": "code",
   "execution_count": 44,
   "metadata": {},
   "outputs": [
    {
     "name": "stdout",
     "output_type": "stream",
     "text": [
      "d:\n",
      " 4\n",
      "e:\n",
      " 1\n"
     ]
    }
   ],
   "source": [
    "d = a.max()\n",
    "e = a.min()\n",
    "print(\"d:\\n\", d)\n",
    "print(\"e:\\n\", e)"
   ]
  },
  {
   "cell_type": "markdown",
   "metadata": {},
   "source": [
    "# 8.Random sampling\n",
    "\n",
    "## 8.1 simple random data\n",
    "\n",
    "* rand(d0,d1,...,dn)Random vales([0.0,1.0]) in a given shape.\n",
    "* randn(d0,d1,...,dn) Return a sample (or samples) from the 'standard normal' distribution\n",
    "* randint(low[,higg,size,dtype]) Return random intergers from low (inclusive) to high (exclusive)."
   ]
  },
  {
   "cell_type": "code",
   "execution_count": 45,
   "metadata": {},
   "outputs": [
    {
     "name": "stdout",
     "output_type": "stream",
     "text": [
      "r1:\n",
      " [[0.96764394 0.08355547]\n",
      " [0.94794564 0.39661932]]\n",
      "r2:\n",
      " [[ 0.46278383 -0.02732649]\n",
      " [-0.24855702 -0.11701941]]\n",
      "r3:\n",
      " 1\n"
     ]
    }
   ],
   "source": [
    "r1 = np.random.rand(2, 2)\n",
    "r2 = np.random.randn(2, 2)\n",
    "r3 = np.random.randint(0, 5)\n",
    "print(\"r1:\\n\", r1)\n",
    "print(\"r2:\\n\", r2)\n",
    "print(\"r3:\\n\", r3)"
   ]
  },
  {
   "cell_type": "markdown",
   "metadata": {},
   "source": [
    "* numpy.random.choise(a,size=None,repalce=True,p=None)\n",
    "    * a: if an ndarray, a random smaple is generated from its elements. If an int, the random sample is generated as if was np.arange(n)\n",
    "    * size: output shape.\n",
    "    * replace: boolean,optional; whether the sample is with each entry in a. If not give the sample assumes a uniform distribution over all entries in a."
   ]
  },
  {
   "cell_type": "code",
   "execution_count": 47,
   "metadata": {},
   "outputs": [
    {
     "name": "stdout",
     "output_type": "stream",
     "text": [
      "[[4 4]\n",
      " [4 4]]\n"
     ]
    }
   ],
   "source": [
    "r3 = np.random.choice([1, 2, 3, 4, 5], (2, 2), p=[0.1, 0, 0.3, 0.6, 0])\n",
    "print(r3)"
   ]
  },
  {
   "cell_type": "markdown",
   "metadata": {},
   "source": [
    "## 8.2 Permutations\n",
    "\n",
    "*   shuffle(x) modify a sequence in-place by shuffing uts contents\n",
    "*   permutation(x) randomly permute a sequence, or return a permuted range"
   ]
  },
  {
   "cell_type": "code",
   "execution_count": 51,
   "metadata": {},
   "outputs": [
    {
     "name": "stdout",
     "output_type": "stream",
     "text": [
      "a:\n",
      " [2 1 5 3 4]\n",
      "a:\n",
      " [2 1 5 3 4]\n",
      "b:\n",
      " [2 4 5 1 3]\n"
     ]
    }
   ],
   "source": [
    "a = np.array([1, 2, 3, 4, 5])\n",
    "np.random.shuffle(a)\n",
    "print(\"a:\\n\", a)\n",
    "b = np.random.permutation([1, 2, 3, 4, 5])\n",
    "\n",
    "print(\"a:\\n\", a)\n",
    "print(\"b:\\n\", b)"
   ]
  },
  {
   "cell_type": "markdown",
   "metadata": {},
   "source": [
    "## 8.3 distributions\n",
    "\n",
    "*   normal([loc,scale,size]) Draw random samples forma a normal (Gaussian) distribution.\n",
    "    *   loc:Mean('centre') of the distribution\n",
    "    *   scale:Standard deviation (spread or 'width') of the distribution\n",
    "    *   size: Ouput shape.\n",
    "*   uniform([low,high,size]) Draw samples forma a uniform distribution\n",
    "    *   samples are uniformly distributed over the half-open interval [low,high] (includes low, but excludes high). in other words, any value within the given is equally likely to be drawn by uniform.\n",
    "    *   low: lowe boundary of the output interval.All values generated will be greater that or equal to low. The default value is 0-\n",
    "    *   high: Upper boundary of the output interval. All values generated will be less tha high. The default value is 1.0\n",
    "    *   size: output shape\n",
    "* poisson([lam,size]) draw samples form a poisson distribution\n",
    "    *   lam: expectation of interval, should be >=0.A sequense of expectation intervals must be broadcastable over the requested size.\n",
    "    *   size: output shape"
   ]
  },
  {
   "cell_type": "code",
   "execution_count": 52,
   "metadata": {},
   "outputs": [
    {
     "name": "stdout",
     "output_type": "stream",
     "text": [
      "r1:\n",
      " [-0.07052912 -0.05060692 -0.06204586 -0.16049166 -0.00926326]\n",
      "r2:\n",
      " [3.414098   4.11340071]\n",
      "r3:\n",
      " [7 1]\n"
     ]
    }
   ],
   "source": [
    "r1 = np.random.normal(0, 0.1, 5)\n",
    "r2 = np.random.uniform(0, 5, 2)\n",
    "r3 = np.random.poisson(5, 2)\n",
    "\n",
    "print(\"r1:\\n\", r1)\n",
    "print(\"r2:\\n\", r2)\n",
    "print(\"r3:\\n\", r3)"
   ]
  },
  {
   "cell_type": "markdown",
   "metadata": {},
   "source": [
    "# 9. Comon mathematical functions\n",
    "\n",
    "## 9.1 Trigonometric funcitons\n",
    "\n",
    "*   sin(x,/[out,where,casting,order,....]) trigonomtric sice,elemet-wise\n",
    "*   cos(x,/[out,where,casting,order...]) cosine elemen-wise"
   ]
  },
  {
   "cell_type": "code",
   "execution_count": 54,
   "metadata": {},
   "outputs": [
    {
     "name": "stdout",
     "output_type": "stream",
     "text": [
      "b:\n",
      " [0.         0.5        0.70710678 0.8660254  1.        ]\n",
      "c:\n",
      " [1.00000000e+00 8.66025404e-01 7.07106781e-01 5.00000000e-01\n",
      " 6.12323400e-17]\n"
     ]
    }
   ],
   "source": [
    "a = np.array([0, 30, 45, 60, 90])\n",
    "b = np.sin(a * np.pi / 180)\n",
    "c = np.cos(a * np.pi / 180)\n",
    "print(\"b:\\n\", b)\n",
    "print(\"c:\\n\", c)"
   ]
  },
  {
   "cell_type": "markdown",
   "metadata": {},
   "source": [
    "## 9.2 Rounding\n",
    "\n",
    "*   around(a[,decimals,out]) Evenly round to the given number of decimal\n",
    "*   flor(x,/[,out,where,casting,order...]) Return the floor of the input, element-wise\n",
    "*   ceil(x,/[out,where,casting,order,...]) Return the ceiling of the input, element-wise"
   ]
  },
  {
   "cell_type": "code",
   "execution_count": 55,
   "metadata": {},
   "outputs": [
    {
     "name": "stdout",
     "output_type": "stream",
     "text": [
      "b:\n",
      " [1. 2. 2. 3.]\n",
      "c:\n",
      " [1.  1.5 2.  2.6]\n"
     ]
    }
   ],
   "source": [
    "a = np.array([1.0, 1.5, 2.0, 2.55])\n",
    "b = np.around(a)\n",
    "c = np.around(a, decimals=1)\n",
    "print(\"b:\\n\", b)\n",
    "print(\"c:\\n\", c)"
   ]
  },
  {
   "cell_type": "markdown",
   "metadata": {},
   "source": [
    "## 9.3 arithmetic operations\n"
   ]
  },
  {
   "cell_type": "code",
   "execution_count": 56,
   "metadata": {},
   "outputs": [
    {
     "name": "stdout",
     "output_type": "stream",
     "text": [
      "c:\n",
      " [5 5 5 5]\n",
      "d:\n",
      " [-3 -1  1  3]\n",
      "e:\n",
      " [4 6 6 4]\n",
      "f:\n",
      " [0.25       0.66666667 1.5        4.        ]\n",
      "g:\n",
      " [1 2 1 0]\n",
      "h:\n",
      " [1 8 9 4]\n"
     ]
    }
   ],
   "source": [
    "a = np.array([1, 2, 3, 4])\n",
    "b = np.array([4, 3, 2, 1])\n",
    "c = np.add(a, b)\n",
    "d = np.subtract(a, b)\n",
    "e = np.multiply(a, b)\n",
    "f = np.divide(a, b)\n",
    "g = np.mod(a, b)\n",
    "h = np.power(a, b)\n",
    "print(\"c:\\n\", c)\n",
    "print(\"d:\\n\", d)\n",
    "print(\"e:\\n\", e)\n",
    "print(\"f:\\n\", f)\n",
    "print(\"g:\\n\", g)\n",
    "print(\"h:\\n\", h)"
   ]
  },
  {
   "cell_type": "markdown",
   "metadata": {},
   "source": [
    "## 9.4 Statical function\n",
    "\n",
    "*   numpy.amin(a,axis=None,out=None,keepdims=,initial=)\n",
    "    *   Return the minimum of an array or minumum along on axis.\n",
    "*   numpy.amax(a,axis=None,out=None,keepdims=,initial=)\n",
    "    *   Return the maximun of an array or maximum along axis\n",
    "*   numpy.median(a,axis=None,out=None,over_write_input=False,Keepdims=False)\n",
    "    * Compute the median along the specified axis.Returns the median of the array elements.\n",
    "*   numpy.mean(a,axis=None,dtype=None,out=None,keepdims=)\n",
    "    *   Compute the arithmetic mean along the specified axis."
   ]
  },
  {
   "cell_type": "code",
   "execution_count": 57,
   "metadata": {},
   "outputs": [
    {
     "name": "stdout",
     "output_type": "stream",
     "text": [
      "a:\n",
      " [[6 7 2]\n",
      " [0 1 5]]\n",
      "b:\n",
      " [0 1 2]\n",
      "c:\n",
      " [7 5]\n",
      "d:\n",
      " 3.5\n",
      "e:\n",
      " 3.5\n"
     ]
    }
   ],
   "source": [
    "a = np.array([[6, 7, 2], [0, 1, 5]])\n",
    "b = np.amin(a,0)\n",
    "c = np.amax(a,1)\n",
    "d = np.median(a)\n",
    "e = np.mean(a)\n",
    "print(\"a:\\n\", a)\n",
    "print(\"b:\\n\", b)\n",
    "print(\"c:\\n\", c)\n",
    "print(\"d:\\n\", d)\n",
    "print(\"e:\\n\", e)"
   ]
  },
  {
   "cell_type": "markdown",
   "metadata": {},
   "source": [
    "## 9.5 Sort funtion\n",
    "*   numpy.sort(a,axis=-1,kind='quicksort',order=None)\n",
    "\n",
    "Return a sorted copy an array"
   ]
  },
  {
   "cell_type": "code",
   "execution_count": 58,
   "metadata": {},
   "outputs": [
    {
     "name": "stdout",
     "output_type": "stream",
     "text": [
      "[[1 3 5]\n",
      " [2 7 8]]\n",
      "[[2 5 1]\n",
      " [3 8 7]]\n"
     ]
    }
   ],
   "source": [
    "a = np.array([[3, 5, 1], [2, 8, 7]])\n",
    "b = np.sort(a)\n",
    "c = np.sort(a, axis=0)\n",
    "print(b)\n",
    "print(c)"
   ]
  }
 ],
 "metadata": {
  "kernelspec": {
   "display_name": "Python 3",
   "language": "python",
   "name": "python3"
  },
  "language_info": {
   "codemirror_mode": {
    "name": "ipython",
    "version": 3
   },
   "file_extension": ".py",
   "mimetype": "text/x-python",
   "name": "python",
   "nbconvert_exporter": "python",
   "pygments_lexer": "ipython3",
   "version": "3.12.0"
  }
 },
 "nbformat": 4,
 "nbformat_minor": 2
}
