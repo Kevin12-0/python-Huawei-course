{
 "cells": [
  {
   "cell_type": "markdown",
   "metadata": {},
   "source": [
    "# 5. Python Standard Library\n",
    "\n",
    "There are two types of libraries in Python, the standard library and thrird-party libraries\n",
    "\n",
    "* Standard library: comes with Python. For examples, os, sys time.\n",
    "* Third-party libraries: needs to be installed be for ir can be used. For example, numpy, pandas and scikit-learn\n",
    "\n",
    "\n",
    "## 5.1 sys module\n",
    "\n",
    "provides access to some variables used or maintaines by the interpreter and to functions that interact strongly with the interpreter."
   ]
  },
  {
   "cell_type": "code",
   "execution_count": 1,
   "metadata": {},
   "outputs": [
    {
     "name": "stdout",
     "output_type": "stream",
     "text": [
      "0\n",
      "1\n",
      "2\n",
      "3\n",
      "4\n",
      "5\n"
     ]
    },
    {
     "ename": "SystemExit",
     "evalue": "0",
     "output_type": "error",
     "traceback": [
      "An exception has occurred, use %tb to see the full traceback.\n",
      "\u001b[1;31mSystemExit\u001b[0m\u001b[1;31m:\u001b[0m 0\n"
     ]
    },
    {
     "name": "stderr",
     "output_type": "stream",
     "text": [
      "c:\\Users\\lopez\\AppData\\Local\\Programs\\Python\\Python312\\Lib\\site-packages\\IPython\\core\\interactiveshell.py:3556: UserWarning: To exit: use 'exit', 'quit', or Ctrl-D.\n",
      "  warn(\"To exit: use 'exit', 'quit', or Ctrl-D.\", stacklevel=1)\n"
     ]
    }
   ],
   "source": [
    "\"\"\" sys.exit([n]): can be used to exit the program, n=0 means successfull termination, n!=0 means abnormal \"\"\"\n",
    "\n",
    "import sys\n",
    "for i in range(100):\n",
    "    print(i)\n",
    "    if i == 5:\n",
    "        sys.exit(0)"
   ]
  },
  {
   "cell_type": "code",
   "execution_count": 2,
   "metadata": {},
   "outputs": [
    {
     "data": {
      "text/plain": [
       "['d:\\\\python-Huawei-course\\\\10-PythonStandardLibrary',\n",
       " 'c:\\\\Users\\\\lopez\\\\AppData\\\\Local\\\\Programs\\\\Python\\\\Python312\\\\python312.zip',\n",
       " 'c:\\\\Users\\\\lopez\\\\AppData\\\\Local\\\\Programs\\\\Python\\\\Python312\\\\DLLs',\n",
       " 'c:\\\\Users\\\\lopez\\\\AppData\\\\Local\\\\Programs\\\\Python\\\\Python312\\\\Lib',\n",
       " 'c:\\\\Users\\\\lopez\\\\AppData\\\\Local\\\\Programs\\\\Python\\\\Python312',\n",
       " '',\n",
       " 'c:\\\\Users\\\\lopez\\\\AppData\\\\Local\\\\Programs\\\\Python\\\\Python312\\\\Lib\\\\site-packages',\n",
       " 'c:\\\\Users\\\\lopez\\\\AppData\\\\Local\\\\Programs\\\\Python\\\\Python312\\\\Lib\\\\site-packages\\\\win32',\n",
       " 'c:\\\\Users\\\\lopez\\\\AppData\\\\Local\\\\Programs\\\\Python\\\\Python312\\\\Lib\\\\site-packages\\\\win32\\\\lib',\n",
       " 'c:\\\\Users\\\\lopez\\\\AppData\\\\Local\\\\Programs\\\\Python\\\\Python312\\\\Lib\\\\site-packages\\\\Pythonwin']"
      ]
     },
     "execution_count": 2,
     "metadata": {},
     "output_type": "execute_result"
    }
   ],
   "source": [
    "\"\"\" sys.path: a list of strings that specifies the search path for modules \"\"\"\n",
    "sys.path"
   ]
  },
  {
   "cell_type": "code",
   "execution_count": 3,
   "metadata": {},
   "outputs": [
    {
     "data": {
      "text/plain": [
       "'win32'"
      ]
     },
     "execution_count": 3,
     "metadata": {},
     "output_type": "execute_result"
    }
   ],
   "source": [
    "\"\"\" sys.plataform: used to check the system plataform \"\"\"\n",
    "sys.platform"
   ]
  },
  {
   "cell_type": "markdown",
   "metadata": {},
   "source": [
    "## 5.2 os module\n",
    "\n",
    "provide a portable way of using operating system dependent functionality"
   ]
  },
  {
   "cell_type": "code",
   "execution_count": 4,
   "metadata": {},
   "outputs": [
    {
     "name": "stdout",
     "output_type": "stream",
     "text": [
      "process id:  9912\n",
      "parent process id:  7192\n",
      "current directory:  d:\\python-Huawei-course\\10-PythonStandardLibrary\n",
      "new directory:  C:\\\n",
      "all the files:  ['pythonStandardLibrary.ipynb']\n"
     ]
    }
   ],
   "source": [
    "import os\n",
    "\n",
    "\"\"\" os.getpid() get the current process id \"\"\"\n",
    "print('process id: ', os.getpid())\n",
    "\n",
    "\"\"\" os.getppid(): get the process ID(PID) of the callingt process. \"\"\"\n",
    "print('parent process id: ', os.getppid())\n",
    "\n",
    "\"\"\" os.getcwd(): get the current directory \"\"\"\n",
    "cwd = os.getcwd()\n",
    "print('current directory: ', cwd)\n",
    "\n",
    "\"\"\" os.chdir(path): change current directory \"\"\"\n",
    "os.chdir('C:/')\n",
    "print('new directory: ', os.getcwd())\n",
    "\n",
    "\"\"\" os.listdir(path): get a list containing the name of the entries in the directory given by path \"\"\"\n",
    "print('all the files: ', os.listdir(cwd))"
   ]
  },
  {
   "cell_type": "code",
   "execution_count": 5,
   "metadata": {},
   "outputs": [
    {
     "ename": "FileNotFoundError",
     "evalue": "[WinError 3] El sistema no puede encontrar la ruta especificada: 'D:/lab/code'",
     "output_type": "error",
     "traceback": [
      "\u001b[1;31m---------------------------------------------------------------------------\u001b[0m",
      "\u001b[1;31mFileNotFoundError\u001b[0m                         Traceback (most recent call last)",
      "\u001b[1;32md:\\python-Huawei-course\\10-PythonStandardLibrary\\pythonStandardLibrary.ipynb Cell 7\u001b[0m line \u001b[0;36m2\n\u001b[0;32m      <a href='vscode-notebook-cell:/d%3A/python-Huawei-course/10-PythonStandardLibrary/pythonStandardLibrary.ipynb#W6sZmlsZQ%3D%3D?line=0'>1</a>\u001b[0m \u001b[39m\"\"\" since we´ve chamged the current direcotry, remember to change it back now  \"\"\"\u001b[39;00m\n\u001b[1;32m----> <a href='vscode-notebook-cell:/d%3A/python-Huawei-course/10-PythonStandardLibrary/pythonStandardLibrary.ipynb#W6sZmlsZQ%3D%3D?line=1'>2</a>\u001b[0m os\u001b[39m.\u001b[39;49mchdir(\u001b[39m'\u001b[39;49m\u001b[39mD:/lab/code\u001b[39;49m\u001b[39m'\u001b[39;49m) \u001b[39m# Change the path to your notebook Location\u001b[39;00m\n",
      "\u001b[1;31mFileNotFoundError\u001b[0m: [WinError 3] El sistema no puede encontrar la ruta especificada: 'D:/lab/code'"
     ]
    }
   ],
   "source": [
    "\"\"\" since we´ve chamged the current direcotry, remember to change it back now  \"\"\"\n",
    "os.chdir('D:/lab/code') # Change the path to your notebook Location"
   ]
  },
  {
   "cell_type": "code",
   "execution_count": 6,
   "metadata": {},
   "outputs": [
    {
     "name": "stdout",
     "output_type": "stream",
     "text": [
      "d:\\python-Huawei-course\\10-PythonStandardLibrary\\pythonStandardLibrary.ipynb\n"
     ]
    }
   ],
   "source": [
    "\"\"\" is.walk(): print all the fine names under the current directory (including files in subdirectories) \"\"\"\n",
    "for root, dirs, files in os.walk(cwd):\n",
    "    for name in files:\n",
    "        print(os.path.join(root, name))\n",
    "    for name in dirs:\n",
    "        print(os.path.join(root, name))"
   ]
  },
  {
   "cell_type": "code",
   "execution_count": 17,
   "metadata": {},
   "outputs": [
    {
     "name": "stdout",
     "output_type": "stream",
     "text": [
      "absolute pathname:  C:\\text.txt\n",
      "exist or not:  False\n"
     ]
    },
    {
     "ename": "FileNotFoundError",
     "evalue": "[WinError 2] El sistema no puede encontrar el archivo especificado: 'text.txt'",
     "output_type": "error",
     "traceback": [
      "\u001b[1;31m---------------------------------------------------------------------------\u001b[0m",
      "\u001b[1;31mFileNotFoundError\u001b[0m                         Traceback (most recent call last)",
      "\u001b[1;32md:\\python-Huawei-course\\10-PythonStandardLibrary\\pythonStandardLibrary.ipynb Cell 9\u001b[0m line \u001b[0;36m1\n\u001b[0;32m      <a href='vscode-notebook-cell:/d%3A/python-Huawei-course/10-PythonStandardLibrary/pythonStandardLibrary.ipynb#X11sZmlsZQ%3D%3D?line=7'>8</a>\u001b[0m \u001b[39mprint\u001b[39m(\u001b[39m'\u001b[39m\u001b[39mexist or not: \u001b[39m\u001b[39m'\u001b[39m, os\u001b[39m.\u001b[39mpath\u001b[39m.\u001b[39mexists(\u001b[39m'\u001b[39m\u001b[39mtext.txt\u001b[39m\u001b[39m'\u001b[39m))\n\u001b[0;32m     <a href='vscode-notebook-cell:/d%3A/python-Huawei-course/10-PythonStandardLibrary/pythonStandardLibrary.ipynb#X11sZmlsZQ%3D%3D?line=9'>10</a>\u001b[0m \u001b[39m\"\"\" os.path.getsize(path): return the size of the path \"\"\"\u001b[39;00m\n\u001b[1;32m---> <a href='vscode-notebook-cell:/d%3A/python-Huawei-course/10-PythonStandardLibrary/pythonStandardLibrary.ipynb#X11sZmlsZQ%3D%3D?line=10'>11</a>\u001b[0m \u001b[39mprint\u001b[39m(\u001b[39m'\u001b[39m\u001b[39msize: \u001b[39m\u001b[39m'\u001b[39m, os\u001b[39m.\u001b[39;49mpath\u001b[39m.\u001b[39;49mgetsize(\u001b[39m'\u001b[39;49m\u001b[39mtext.txt\u001b[39;49m\u001b[39m'\u001b[39;49m))\n\u001b[0;32m     <a href='vscode-notebook-cell:/d%3A/python-Huawei-course/10-PythonStandardLibrary/pythonStandardLibrary.ipynb#X11sZmlsZQ%3D%3D?line=12'>13</a>\u001b[0m \u001b[39m\"\"\" os.isfile(path): determine if path is a file \"\"\"\u001b[39;00m\n\u001b[0;32m     <a href='vscode-notebook-cell:/d%3A/python-Huawei-course/10-PythonStandardLibrary/pythonStandardLibrary.ipynb#X11sZmlsZQ%3D%3D?line=13'>14</a>\u001b[0m \u001b[39mprint\u001b[39m(\u001b[39m'\u001b[39m\u001b[39mis file: \u001b[39m\u001b[39m'\u001b[39m, os\u001b[39m.\u001b[39mpath\u001b[39m.\u001b[39misfile(\u001b[39m'\u001b[39m\u001b[39mtext.txt\u001b[39m\u001b[39m'\u001b[39m))\n",
      "File \u001b[1;32m<frozen genericpath>:62\u001b[0m, in \u001b[0;36mgetsize\u001b[1;34m(filename)\u001b[0m\n",
      "\u001b[1;31mFileNotFoundError\u001b[0m: [WinError 2] El sistema no puede encontrar el archivo especificado: 'text.txt'"
     ]
    }
   ],
   "source": [
    "\"\"\" os.path module: provides some useful functions on pathnames \"\"\"\n",
    "\n",
    "import os\n",
    "\"\"\" os.path.abspath(path): get the absolute path name \"\"\"\n",
    "print('absolute pathname: ', os.path.abspath('text.txt'))\n",
    "\n",
    "\"\"\" os.path.exist(path): retunr ture if path exist, else return false \"\"\"\n",
    "print('exist or not: ', os.path.exists('text.txt'))\n",
    "\n",
    "\"\"\" os.path.getsize(path): return the size of the path \"\"\"\n",
    "print('size: ', os.path.getsize('text.txt'))\n",
    "\n",
    "\"\"\" os.isfile(path): determine if path is a file \"\"\"\n",
    "print('is file: ', os.path.isfile('text.txt'))\n",
    "\n",
    "\"\"\" os.path.isdir(path) determine if path is a folder \"\"\"\n",
    "print('is folder: ',os.path.isdir('text.txt'))"
   ]
  },
  {
   "cell_type": "markdown",
   "metadata": {},
   "source": [
    "## 5.3 time module\n",
    "\n",
    "provides variopus time-reload functions"
   ]
  },
  {
   "cell_type": "code",
   "execution_count": 18,
   "metadata": {},
   "outputs": [
    {
     "name": "stdout",
     "output_type": "stream",
     "text": [
      "time stamp:  1700535457.642029\n"
     ]
    }
   ],
   "source": [
    "import time\n",
    "\n",
    "\"\"\" time.time(): get current timestop \"\"\"\n",
    "\n",
    "time_now = time.time()\n",
    "print('time stamp: ', time_now)"
   ]
  },
  {
   "cell_type": "code",
   "execution_count": 19,
   "metadata": {},
   "outputs": [
    {
     "name": "stdout",
     "output_type": "stream",
     "text": [
      "local time:  time.struct_time(tm_year=2023, tm_mon=11, tm_mday=20, tm_hour=20, tm_min=57, tm_sec=37, tm_wday=0, tm_yday=324, tm_isdst=0)\n"
     ]
    }
   ],
   "source": [
    "\"\"\" time.localtime(): get local time \"\"\"\n",
    "\n",
    "localtime = time.localtime(time_now)\n",
    "print('local time: ', localtime)"
   ]
  },
  {
   "cell_type": "code",
   "execution_count": 20,
   "metadata": {},
   "outputs": [
    {
     "name": "stdout",
     "output_type": "stream",
     "text": [
      "local time: 2023-11-20 21:00:54\n"
     ]
    }
   ],
   "source": [
    "\"\"\" time.strftime(format[,t]): convert a tuple or structur_time representing a time to a string as specific \"\"\"\n",
    "print('local time:', time.strftime('%Y-%m-%d %H:%M:%S', time.localtime()))"
   ]
  }
 ],
 "metadata": {
  "kernelspec": {
   "display_name": "Python 3",
   "language": "python",
   "name": "python3"
  },
  "language_info": {
   "codemirror_mode": {
    "name": "ipython",
    "version": 3
   },
   "file_extension": ".py",
   "mimetype": "text/x-python",
   "name": "python",
   "nbconvert_exporter": "python",
   "pygments_lexer": "ipython3",
   "version": "3.12.0"
  }
 },
 "nbformat": 4,
 "nbformat_minor": 2
}
