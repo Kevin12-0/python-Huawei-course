{
 "cells": [
  {
   "cell_type": "markdown",
   "metadata": {},
   "source": [
    "# Python Advanced\n",
    "\n",
    "# 1. Regular expression\n",
    "\n",
    "A regular expression is a sequence of characteres that define a search pattern."
   ]
  },
  {
   "cell_type": "code",
   "execution_count": 1,
   "metadata": {},
   "outputs": [],
   "source": [
    "\"\"\" import re \"\"\"\n",
    "\n",
    "import re"
   ]
  },
  {
   "cell_type": "code",
   "execution_count": 2,
   "metadata": {},
   "outputs": [
    {
     "name": "stdout",
     "output_type": "stream",
     "text": [
      "(0, 3)\n",
      "None\n"
     ]
    }
   ],
   "source": [
    "print(re.match('www','www.huawei.com').span()) # match from start of the text\n",
    "print(re.match('com','www.huawei.com')) # cannot match from middel of the text"
   ]
  },
  {
   "cell_type": "code",
   "execution_count": 3,
   "metadata": {},
   "outputs": [
    {
     "name": "stdout",
     "output_type": "stream",
     "text": [
      "(11, 14)\n"
     ]
    }
   ],
   "source": [
    "print(re.search('com','www.huawei.com').span())"
   ]
  },
  {
   "cell_type": "code",
   "execution_count": 6,
   "metadata": {},
   "outputs": [
    {
     "name": "stdout",
     "output_type": "stream",
     "text": [
      "nothing found!!\n"
     ]
    }
   ],
   "source": [
    "line = \"Cats are smater that fish\"\n",
    "searchObj = re.search(r'(.*) are smarte than (.*)', line)\n",
    "if searchObj:\n",
    "    print('searchObj.group(): ', searchObj.group())\n",
    "    print('searchObj.group(1): ', searchObj.group(1))\n",
    "    print('searchObj.group(2): ', searchObj.group(2))\n",
    "else:\n",
    "    print('nothing found!!')"
   ]
  },
  {
   "cell_type": "code",
   "execution_count": 7,
   "metadata": {},
   "outputs": [
    {
     "name": "stdout",
     "output_type": "stream",
     "text": [
      "None\n",
      "<re.Match object; span=(3, 5), match='12'>\n",
      "12\n"
     ]
    }
   ],
   "source": [
    "\"\"\" re.compile(pattern).search(text) is equivalent to re.search(pattern, text) \"\"\"\n",
    "\n",
    "pattern = re.compile(r'\\d+')\n",
    "n = pattern.match('one12tothree34four')\n",
    "print(n)\n",
    "\n",
    "\"\"\" search from start, found 12 \"\"\"\n",
    "\n",
    "m = pattern.search('one12tothree34four')\n",
    "print(m)\n",
    "print(m.group())"
   ]
  },
  {
   "cell_type": "code",
   "execution_count": 8,
   "metadata": {},
   "outputs": [
    {
     "name": "stdout",
     "output_type": "stream",
     "text": [
      "pthone number:  2020-001-00 \n",
      "phone number:  202000100\n"
     ]
    }
   ],
   "source": [
    "phone = '2020-001-00 # this is a phone number'\n",
    "\"\"\" remove the number sign (#) and everything behine \"\"\"\n",
    "num = re.sub(r'#.*',\"\",phone)\n",
    "print('pthone number: ', num)\n",
    "\"\"\" remove evereything that is not digit \"\"\"\n",
    "num = re.sub(r'\\D','',phone)\n",
    "print('phone number: ', num)"
   ]
  },
  {
   "cell_type": "code",
   "execution_count": 9,
   "metadata": {},
   "outputs": [
    {
     "name": "stdout",
     "output_type": "stream",
     "text": [
      "['2022', '2', '31', '222', '2', '30']\n",
      "['2022', '31', '222', '30']\n"
     ]
    }
   ],
   "source": [
    "\"\"\" find all the numbers in the text \"\"\"\n",
    "\n",
    "text = 'Tomorrow is 2022/2/31, today is 222/2/30'\n",
    "num1 = re.findall(r'\\d+',text)\n",
    "num2 = re.findall(r'[0-9]{2,5}',text) # different reggex can lead to same result\n",
    "print(num1)\n",
    "print(num2)"
   ]
  },
  {
   "cell_type": "code",
   "execution_count": 10,
   "metadata": {},
   "outputs": [
    {
     "name": "stdout",
     "output_type": "stream",
     "text": [
      "['T', 'o', 'm', 'o', 'r', 'r', 'o', 'w', 'i', 's', 't', 'o', 'd', 'a', 'y', 'i', 's']\n"
     ]
    }
   ],
   "source": [
    "\"\"\" find all the alphabets in the text \"\"\"\n",
    "\n",
    "s = re.findall(r'[a-zA-z]', text)\n",
    "print(s)"
   ]
  },
  {
   "cell_type": "code",
   "execution_count": 11,
   "metadata": {},
   "outputs": [
    {
     "name": "stdout",
     "output_type": "stream",
     "text": [
      "[' ', ' ', '/', '/', ', ', ' ', ' ', '/', '/']\n"
     ]
    }
   ],
   "source": [
    "\"\"\" find all the symbols in the text \"\"\"\n",
    "s = re.findall(r'\\W+',text)\n",
    "print(s)"
   ]
  },
  {
   "cell_type": "code",
   "execution_count": 12,
   "metadata": {},
   "outputs": [
    {
     "name": "stdout",
     "output_type": "stream",
     "text": [
      "['Tomorrow', 'is', '2022', '2', '31', 'today', 'is', '222', '2', '30']\n"
     ]
    }
   ],
   "source": [
    "\"\"\" fina all the alphabets and digits \"\"\"\n",
    "\n",
    "s = re.findall(r'[A-Za-z0-9]+', text)\n",
    "print(s)"
   ]
  },
  {
   "cell_type": "code",
   "execution_count": 13,
   "metadata": {},
   "outputs": [
    {
     "name": "stdout",
     "output_type": "stream",
     "text": [
      "['abc456@def.com']\n"
     ]
    }
   ],
   "source": [
    "\"\"\" find email address \"\"\"\n",
    "\n",
    "text = 'my email adress is: abc456@def.com'\n",
    "s = re.findall(r'[A-Za-z0-9]+@[A-Za-z0-9]+\\.com',text)\n",
    "print(s)"
   ]
  },
  {
   "cell_type": "code",
   "execution_count": 16,
   "metadata": {},
   "outputs": [
    {
     "name": "stdout",
     "output_type": "stream",
     "text": [
      "['https://www.python.org']\n"
     ]
    }
   ],
   "source": [
    "\"\"\" find url \"\"\"\n",
    "\n",
    "text = 'Python home page: https://www.python.org'\n",
    "s = re.findall(r'https?://.*',text)\n",
    "print(s)"
   ]
  },
  {
   "cell_type": "code",
   "execution_count": 18,
   "metadata": {},
   "outputs": [
    {
     "name": "stdout",
     "output_type": "stream",
     "text": [
      "<div>test1</div>bb<div>test2</div>\n"
     ]
    }
   ],
   "source": [
    "\"\"\" find every div tag \"\"\"\n",
    "\n",
    "html = 'aa<div>test1</div>bb<div>test2</div>cc'\n",
    "res = re.search('<div>.*</div>', html)\n",
    "print(res.group())"
   ]
  },
  {
   "cell_type": "code",
   "execution_count": 20,
   "metadata": {},
   "outputs": [
    {
     "name": "stdout",
     "output_type": "stream",
     "text": [
      "<div>test1</div>\n"
     ]
    }
   ],
   "source": [
    "\"\"\" find first div tag \"\"\"\n",
    "\n",
    "html = 'aa<div>test1</div>bb<div>test2</div>cc'\n",
    "res = re.search('<div>.*?</div>', html)\n",
    "print(res.group())"
   ]
  }
 ],
 "metadata": {
  "kernelspec": {
   "display_name": "Python 3",
   "language": "python",
   "name": "python3"
  },
  "language_info": {
   "codemirror_mode": {
    "name": "ipython",
    "version": 3
   },
   "file_extension": ".py",
   "mimetype": "text/x-python",
   "name": "python",
   "nbconvert_exporter": "python",
   "pygments_lexer": "ipython3",
   "version": "3.12.0"
  }
 },
 "nbformat": 4,
 "nbformat_minor": 2
}
