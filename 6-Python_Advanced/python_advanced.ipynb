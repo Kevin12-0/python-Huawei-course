{
 "cells": [
  {
   "cell_type": "markdown",
   "metadata": {},
   "source": [
    "# Python Advanced\n",
    "\n",
    "# 1. Regular expression\n",
    "\n",
    "A regular expression is a sequence of characteres that define a search pattern."
   ]
  },
  {
   "cell_type": "code",
   "execution_count": 1,
   "metadata": {},
   "outputs": [],
   "source": [
    "\"\"\" import re \"\"\"\n",
    "\n",
    "import re"
   ]
  },
  {
   "cell_type": "code",
   "execution_count": 2,
   "metadata": {},
   "outputs": [
    {
     "name": "stdout",
     "output_type": "stream",
     "text": [
      "(0, 3)\n",
      "None\n"
     ]
    }
   ],
   "source": [
    "print(re.match('www','www.huawei.com').span()) # match from start of the text\n",
    "print(re.match('com','www.huawei.com')) # cannot match from middel of the text"
   ]
  },
  {
   "cell_type": "code",
   "execution_count": 3,
   "metadata": {},
   "outputs": [
    {
     "name": "stdout",
     "output_type": "stream",
     "text": [
      "(11, 14)\n"
     ]
    }
   ],
   "source": [
    "print(re.search('com','www.huawei.com').span())"
   ]
  },
  {
   "cell_type": "code",
   "execution_count": 4,
   "metadata": {},
   "outputs": [
    {
     "name": "stdout",
     "output_type": "stream",
     "text": [
      "nothing found!!\n"
     ]
    }
   ],
   "source": [
    "line = 'Cats are smater that fish'\n",
    "searchObj = re.search(r'(.*) are smarte than (.*)', line)\n",
    "if searchObj:\n",
    "    print('searchObj.group(): ', searchObj.group())\n",
    "    print('searchObj.group(1): ', searchObj.group(1))\n",
    "    print('searchObj.group(2): ', searchObj.group(2))\n",
    "else:\n",
    "    print('nothing found!!')"
   ]
  },
  {
   "cell_type": "code",
   "execution_count": null,
   "metadata": {},
   "outputs": [],
   "source": []
  },
  {
   "cell_type": "markdown",
   "metadata": {},
   "source": []
  }
 ],
 "metadata": {
  "kernelspec": {
   "display_name": "Python 3",
   "language": "python",
   "name": "python3"
  },
  "language_info": {
   "codemirror_mode": {
    "name": "ipython",
    "version": 3
   },
   "file_extension": ".py",
   "mimetype": "text/x-python",
   "name": "python",
   "nbconvert_exporter": "python",
   "pygments_lexer": "ipython3",
   "version": "3.12.0"
  }
 },
 "nbformat": 4,
 "nbformat_minor": 2
}
