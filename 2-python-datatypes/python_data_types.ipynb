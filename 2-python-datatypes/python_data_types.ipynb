{
 "cells": [
  {
   "cell_type": "markdown",
   "metadata": {},
   "source": [
    "# 2. Python data types\n",
    "## 2.1 Numeric: int, float, complex\n",
    "* Python support intergers, floating-point numbers and complex numbers.\n",
    "* Intergers and floating point are separated by the presence or absence of a decimal point.\n",
    "* Complet numbers are written in the form x + yj, whre x is the real part and y is the imaginary part.\n",
    "* Intergers can be of any length, a floating-point number is accurate only up to 15 decimal places (the 16th place is inaccurate)"
   ]
  },
  {
   "cell_type": "code",
   "execution_count": 1,
   "metadata": {},
   "outputs": [
    {
     "name": "stdout",
     "output_type": "stream",
     "text": [
      "<class 'int'>\n"
     ]
    }
   ],
   "source": [
    "a = 5\n",
    "print(type(a))"
   ]
  },
  {
   "cell_type": "code",
   "execution_count": 2,
   "metadata": {},
   "outputs": [
    {
     "name": "stdout",
     "output_type": "stream",
     "text": [
      "<class 'float'>\n"
     ]
    }
   ],
   "source": [
    "a = 5.0\n",
    "print(type(a))"
   ]
  },
  {
   "cell_type": "code",
   "execution_count": 3,
   "metadata": {},
   "outputs": [
    {
     "name": "stdout",
     "output_type": "stream",
     "text": [
      "(11+6j)\n",
      "<class 'complex'>\n"
     ]
    }
   ],
   "source": [
    "a = 5 + 6j\n",
    "print(a+6)\n",
    "print(type(a))"
   ]
  },
  {
   "cell_type": "markdown",
   "metadata": {},
   "source": [
    "## 2.2 Text: str\n",
    "### 2.2.1 String\n",
    "\n",
    "* in python a string is a sequence of unicode characters. Unicode was introduced to include every character in all languajes and bring uniformity in enconding. You can learn about Unicode from Python Unicode\n",
    "* Strings can be created by enclosing characters inside a single quote or double-quotes. Even triple quotes can be used in Python but generally used to represent multiline strings and docstrings"
   ]
  },
  {
   "cell_type": "code",
   "execution_count": 4,
   "metadata": {},
   "outputs": [
    {
     "name": "stdout",
     "output_type": "stream",
     "text": [
      "Xa}{} Python\n",
      "Xalapete Python\n",
      " Xalapete\n",
      "\n",
      "        Python\n",
      "\n",
      "<class 'str'>\n",
      "<class 'str'>\n",
      "<class 'str'>\n"
     ]
    }
   ],
   "source": [
    "\"\"\" Create string \"\"\"\n",
    "\n",
    "s1_ = \"Xa}{} Python\"\n",
    "\"\"\" In a single quote or double-quotes\"\"\"\n",
    "s2_ = 'Xalapete Python'\n",
    "\n",
    "s3_= \"\"\" Xalapete\n",
    "\n",
    "        Python\n",
    "\"\"\"\n",
    "\n",
    "\"\"\" Triple quotes for multiline strings and docstrings \"\"\"\n",
    "\n",
    "print(s1_)\n",
    "print(s2_)\n",
    "print(s3_)\n",
    "print(type(s1_))\n",
    "print(type(s2_))\n",
    "print(type(s3_))"
   ]
  },
  {
   "cell_type": "markdown",
   "metadata": {},
   "source": [
    "#### 2.2.2 Escape sequence\n",
    "* To insert characteres that are illegal in a string, use an escape character.\n",
    "* An escape character is a backslash \\ followed by the character you want to insert\n",
    "* An escape sequence stars with backslash and is interpreted diffetently. If we use a single quote to represent a string, all the single quotes inside the string must be escaped. Similar with double quotes"
   ]
  },
  {
   "cell_type": "code",
   "execution_count": 5,
   "metadata": {},
   "outputs": [
    {
     "data": {
      "text/plain": [
       "'python\"'"
      ]
     },
     "execution_count": 5,
     "metadata": {},
     "output_type": "execute_result"
    }
   ],
   "source": [
    "\"\"\" to show the double quote \"\"\"\n",
    "s = \"python\\\"\"\n",
    "s"
   ]
  },
  {
   "cell_type": "code",
   "execution_count": 6,
   "metadata": {},
   "outputs": [
    {
     "data": {
      "text/plain": [
       "'python\\\\'"
      ]
     },
     "execution_count": 6,
     "metadata": {},
     "output_type": "execute_result"
    }
   ],
   "source": [
    "\"\"\" to show the backslash \"\"\"\n",
    "s = \"python\\\\\"\n",
    "s"
   ]
  },
  {
   "cell_type": "code",
   "execution_count": 8,
   "metadata": {},
   "outputs": [
    {
     "name": "stdout",
     "output_type": "stream",
     "text": [
      "py\n",
      "thon\n"
     ]
    }
   ],
   "source": [
    "\"\"\" to start a new line \"\"\"\n",
    "s = \"py\\nthon\"\n",
    "print(s)"
   ]
  },
  {
   "cell_type": "markdown",
   "metadata": {},
   "source": [
    "### 2.2.3 Raw string\n",
    "\n",
    "* Sometimes we may wish to ignore the scape sequences inside. To do this we can place r or R in front of the string.\n",
    "This will imply that is a raw string and any escape sequence inside it will be ignored"
   ]
  },
  {
   "cell_type": "code",
   "execution_count": 1,
   "metadata": {},
   "outputs": [
    {
     "name": "stdout",
     "output_type": "stream",
     "text": [
      "C:\\abc\\abc\\abc.txt\n"
     ]
    }
   ],
   "source": [
    "s = r\"C:\\abc\\abc\\abc.txt\"\n",
    "print(s)"
   ]
  },
  {
   "cell_type": "markdown",
   "metadata": {},
   "source": [
    "### 2.2.4 Access Characteres in a String\n",
    "\n",
    "We can access individual characters using indexing and a range of characteres using slicing. Index starts from 0. Typing to access a character out of index range will raise an IndexError. The index must be interger. We can´t use a float or other types, this will result into TypeError.\n",
    "\n",
    "Python allows negative indexing for its sequences.\n",
    "\n",
    "The index of -1 refers to the last item -2 to the second last item and so on. We can access a ranfe of items in a string by using the sicing operaton :(colon)."
   ]
  },
  {
   "cell_type": "code",
   "execution_count": 2,
   "metadata": {},
   "outputs": [
    {
     "data": {
      "text/plain": [
       "'p'"
      ]
     },
     "execution_count": 2,
     "metadata": {},
     "output_type": "execute_result"
    }
   ],
   "source": [
    "s = \"python\"\n",
    "s[0]"
   ]
  },
  {
   "cell_type": "code",
   "execution_count": 3,
   "metadata": {},
   "outputs": [
    {
     "data": {
      "text/plain": [
       "'y'"
      ]
     },
     "execution_count": 3,
     "metadata": {},
     "output_type": "execute_result"
    }
   ],
   "source": [
    "s[1]"
   ]
  },
  {
   "cell_type": "code",
   "execution_count": 4,
   "metadata": {},
   "outputs": [
    {
     "data": {
      "text/plain": [
       "'n'"
      ]
     },
     "execution_count": 4,
     "metadata": {},
     "output_type": "execute_result"
    }
   ],
   "source": [
    "s[-1]"
   ]
  },
  {
   "cell_type": "code",
   "execution_count": 10,
   "metadata": {},
   "outputs": [
    {
     "ename": "IndexError",
     "evalue": "string index out of range",
     "output_type": "error",
     "traceback": [
      "\u001b[1;31m---------------------------------------------------------------------------\u001b[0m",
      "\u001b[1;31mIndexError\u001b[0m                                Traceback (most recent call last)",
      "\u001b[1;32md:\\python-Huawei-course\\python_course\\python_data_types.ipynb Cell 17\u001b[0m line \u001b[0;36m2\n\u001b[0;32m      <a href='vscode-notebook-cell:/d%3A/python-Huawei-course/python_course/python_data_types.ipynb#X22sZmlsZQ%3D%3D?line=0'>1</a>\u001b[0m \u001b[39m\"\"\" error por el numeor de caracteres (Index Error) \"\"\"\u001b[39;00m\n\u001b[1;32m----> <a href='vscode-notebook-cell:/d%3A/python-Huawei-course/python_course/python_data_types.ipynb#X22sZmlsZQ%3D%3D?line=1'>2</a>\u001b[0m s[\u001b[39m99\u001b[39;49m]\n",
      "\u001b[1;31mIndexError\u001b[0m: string index out of range"
     ]
    }
   ],
   "source": [
    "\"\"\" error por el numeor de caracteres (Index Error) \"\"\"\n",
    "s[99]"
   ]
  },
  {
   "cell_type": "code",
   "execution_count": 8,
   "metadata": {},
   "outputs": [
    {
     "ename": "TypeError",
     "evalue": "string indices must be integers, not 'float'",
     "output_type": "error",
     "traceback": [
      "\u001b[1;31m---------------------------------------------------------------------------\u001b[0m",
      "\u001b[1;31mTypeError\u001b[0m                                 Traceback (most recent call last)",
      "\u001b[1;32md:\\python-Huawei-course\\python_course\\python_data_types.ipynb Cell 18\u001b[0m line \u001b[0;36m2\n\u001b[0;32m      <a href='vscode-notebook-cell:/d%3A/python-Huawei-course/python_course/python_data_types.ipynb#X23sZmlsZQ%3D%3D?line=0'>1</a>\u001b[0m \u001b[39m\"\"\" error for the numeric type \"\"\"\u001b[39;00m\n\u001b[1;32m----> <a href='vscode-notebook-cell:/d%3A/python-Huawei-course/python_course/python_data_types.ipynb#X23sZmlsZQ%3D%3D?line=1'>2</a>\u001b[0m s[\u001b[39m1.0\u001b[39;49m]\n",
      "\u001b[1;31mTypeError\u001b[0m: string indices must be integers, not 'float'"
     ]
    }
   ],
   "source": [
    "\"\"\" error for the numeric type \"\"\"\n",
    "s[1.0]"
   ]
  },
  {
   "cell_type": "code",
   "execution_count": 9,
   "metadata": {},
   "outputs": [
    {
     "data": {
      "text/plain": [
       "'pyt'"
      ]
     },
     "execution_count": 9,
     "metadata": {},
     "output_type": "execute_result"
    }
   ],
   "source": [
    "\"\"\" python \"\"\"\n",
    "s[0:3]"
   ]
  },
  {
   "cell_type": "code",
   "execution_count": 11,
   "metadata": {},
   "outputs": [
    {
     "data": {
      "text/plain": [
       "'pt'"
      ]
     },
     "execution_count": 11,
     "metadata": {},
     "output_type": "execute_result"
    }
   ],
   "source": [
    "s[0:4:2]"
   ]
  },
  {
   "cell_type": "code",
   "execution_count": 13,
   "metadata": {},
   "outputs": [
    {
     "ename": "TypeError",
     "evalue": "'str' object does not support item assignment",
     "output_type": "error",
     "traceback": [
      "\u001b[1;31m---------------------------------------------------------------------------\u001b[0m",
      "\u001b[1;31mTypeError\u001b[0m                                 Traceback (most recent call last)",
      "\u001b[1;32md:\\python-Huawei-course\\python_course\\python_data_types.ipynb Cell 21\u001b[0m line \u001b[0;36m2\n\u001b[0;32m      <a href='vscode-notebook-cell:/d%3A/python-Huawei-course/python_course/python_data_types.ipynb#X26sZmlsZQ%3D%3D?line=0'>1</a>\u001b[0m \u001b[39m\"\"\" unchangeable \"\"\"\u001b[39;00m\n\u001b[1;32m----> <a href='vscode-notebook-cell:/d%3A/python-Huawei-course/python_course/python_data_types.ipynb#X26sZmlsZQ%3D%3D?line=1'>2</a>\u001b[0m s[\u001b[39m0\u001b[39;49m] \u001b[39m=\u001b[39m \u001b[39m\"\u001b[39m\u001b[39ml\u001b[39m\u001b[39m\"\u001b[39m\n",
      "\u001b[1;31mTypeError\u001b[0m: 'str' object does not support item assignment"
     ]
    }
   ],
   "source": [
    "\"\"\" unchangeable \"\"\"\n",
    "s[0] = \"l\""
   ]
  },
  {
   "cell_type": "markdown",
   "metadata": {},
   "source": [
    "### 2.3.5 String Operators\n",
    "\n",
    "There are many operations tha can be performed with strings which makes it one of the most used data types in Python.\n",
    "\n",
    "Joining Of two or more strings into a single one is called concatenation. The operaot + does this in Python.\n",
    "\n",
    "Te operator * can be usen to repeat the string for given number of times."
   ]
  },
  {
   "cell_type": "code",
   "execution_count": 1,
   "metadata": {},
   "outputs": [
    {
     "name": "stdout",
     "output_type": "stream",
     "text": [
      "helloworld\n"
     ]
    }
   ],
   "source": [
    "\"\"\" operator + \"\"\"\n",
    "\n",
    "a = \"hello\"\n",
    "b = \"world\"\n",
    "print(a+b)"
   ]
  },
  {
   "cell_type": "code",
   "execution_count": 2,
   "metadata": {},
   "outputs": [
    {
     "name": "stdout",
     "output_type": "stream",
     "text": [
      "hellohello\n"
     ]
    }
   ],
   "source": [
    "\"\"\" operator * \"\"\"\n",
    "a = \"hello\"\n",
    "b = 2\n",
    "print(a*b)"
   ]
  },
  {
   "cell_type": "markdown",
   "metadata": {},
   "source": [
    "### 2.2.6 Common Python String Methods\n",
    "\n",
    "There are numerous methods avaliable with the string object.\n",
    "\n",
    "Some of the commonly used methods are lower(), upper(), join(), split(), find(), replace(), etc."
   ]
  },
  {
   "cell_type": "code",
   "execution_count": 4,
   "metadata": {},
   "outputs": [
    {
     "data": {
      "text/plain": [
       "['python', 'is', 'cool']"
      ]
     },
     "execution_count": 4,
     "metadata": {},
     "output_type": "execute_result"
    }
   ],
   "source": [
    "\"\"\" split\n",
    "    str.split(str1): split a string by str1\n",
    "\"\"\"\n",
    "s = \"python is cool\"\n",
    "s.split()"
   ]
  },
  {
   "cell_type": "code",
   "execution_count": 5,
   "metadata": {},
   "outputs": [
    {
     "data": {
      "text/plain": [
       "'ABCthon'"
      ]
     },
     "execution_count": 5,
     "metadata": {},
     "output_type": "execute_result"
    }
   ],
   "source": [
    "\"\"\" replace\n",
    "    str.replace(str1, str2): replace the str1 by str2\n",
    "\"\"\"\n",
    "s = \"python\"\n",
    "s.replace(\"py\",\"ABC\")"
   ]
  },
  {
   "cell_type": "code",
   "execution_count": 2,
   "metadata": {},
   "outputs": [
    {
     "name": "stdout",
     "output_type": "stream",
     "text": [
      "python\n",
      "PYTHON\n"
     ]
    }
   ],
   "source": [
    "\"\"\" lower and upper\n",
    "    str.lower(): lower a string\n",
    "    str.upper(): upper string\n",
    "\"\"\"\n",
    "s = \"Python\"\n",
    "print(s.lower())\n",
    "print(s.upper())"
   ]
  },
  {
   "cell_type": "code",
   "execution_count": 3,
   "metadata": {},
   "outputs": [
    {
     "data": {
      "text/plain": [
       "'python--is--cool'"
      ]
     },
     "execution_count": 3,
     "metadata": {},
     "output_type": "execute_result"
    }
   ],
   "source": [
    "\"\"\" join\n",
    "    str.join(iter): join the string by iter\n",
    "\"\"\"\n",
    "\"--\".join([\"python\",\"is\",\"cool\"])"
   ]
  },
  {
   "cell_type": "markdown",
   "metadata": {},
   "source": [
    "### 2.2.7 String Formatting"
   ]
  },
  {
   "cell_type": "code",
   "execution_count": 4,
   "metadata": {},
   "outputs": [
    {
     "data": {
      "text/plain": [
       "'My name is AI, age is 63'"
      ]
     },
     "execution_count": 4,
     "metadata": {},
     "output_type": "execute_result"
    }
   ],
   "source": [
    "\"\"\" switch %s and %d with AI and 63 \"\"\"\n",
    "'My name is %s, age is %d' %(\"AI\",63)"
   ]
  },
  {
   "cell_type": "markdown",
   "metadata": {},
   "source": [
    "## 2.3 List\n",
    "\n",
    "List are mutable sequences, typically used to store collections of homogeneous items.\n",
    "\n",
    "List = [obj1, obj2, ...]"
   ]
  },
  {
   "cell_type": "code",
   "execution_count": 5,
   "metadata": {},
   "outputs": [
    {
     "name": "stdout",
     "output_type": "stream",
     "text": [
      "[1, 2, 3, 'hello']\n"
     ]
    }
   ],
   "source": [
    "\"\"\" craete a list \"\"\"\n",
    "l = [1,2,3,\"hello\"]\n",
    "print(l) "
   ]
  },
  {
   "cell_type": "code",
   "execution_count": 7,
   "metadata": {},
   "outputs": [
    {
     "name": "stdout",
     "output_type": "stream",
     "text": [
      "2\n",
      "[1, 2]\n",
      "[1, 3]\n"
     ]
    }
   ],
   "source": [
    "\"\"\" access a items in a list \"\"\"\n",
    "print(l[1])\n",
    "print(l[0:2])\n",
    "print(l[0:3:2])"
   ]
  },
  {
   "cell_type": "code",
   "execution_count": 8,
   "metadata": {},
   "outputs": [
    {
     "name": "stdout",
     "output_type": "stream",
     "text": [
      "[1, 0, 3, 'hello']\n"
     ]
    }
   ],
   "source": [
    "\"\"\" change items in a list \"\"\"\n",
    "l[1] = 0\n",
    "print(l)"
   ]
  },
  {
   "cell_type": "markdown",
   "metadata": {},
   "source": [
    "### 2.3.1 List Operators\n",
    "\n",
    "Same as strings operators\n"
   ]
  },
  {
   "cell_type": "code",
   "execution_count": 9,
   "metadata": {},
   "outputs": [],
   "source": [
    "a = [1,2,3]\n",
    "b = [4,5]"
   ]
  },
  {
   "cell_type": "code",
   "execution_count": 10,
   "metadata": {},
   "outputs": [
    {
     "name": "stdout",
     "output_type": "stream",
     "text": [
      "[1, 2, 3, 1, 2, 3]\n",
      "[1, 2, 3, 4, 5]\n"
     ]
    }
   ],
   "source": [
    "\"\"\" operator * \"\"\"\n",
    "print(a*2)\n",
    "\"\"\" operator + \"\"\"\n",
    "print(a+b)"
   ]
  },
  {
   "cell_type": "markdown",
   "metadata": {},
   "source": [
    "### 2.3.2 List Methods"
   ]
  },
  {
   "cell_type": "code",
   "execution_count": 12,
   "metadata": {},
   "outputs": [
    {
     "name": "stdout",
     "output_type": "stream",
     "text": [
      "['cat', 'dog', 'bird', 'fish']\n"
     ]
    }
   ],
   "source": [
    "animals = [\"cat\", \"dog\", \"bird\"]\n",
    "\"\"\" list.append(obj): add one item to the end of a list\"\"\"\n",
    "animals.append(\"fish\")\n",
    "print(animals)"
   ]
  },
  {
   "cell_type": "code",
   "execution_count": 13,
   "metadata": {},
   "outputs": [
    {
     "name": "stdout",
     "output_type": "stream",
     "text": [
      "['cat', 'dog', 'bird']\n"
     ]
    }
   ],
   "source": [
    "\"\"\" List.remove(obj): delete one or more itmes form a list\"\"\"\n",
    "animals.remove('fish')\n",
    "print(animals)"
   ]
  },
  {
   "cell_type": "code",
   "execution_count": 14,
   "metadata": {},
   "outputs": [
    {
     "name": "stdout",
     "output_type": "stream",
     "text": [
      "['cat', 'fish', 'dog', 'bird']\n"
     ]
    }
   ],
   "source": [
    "\"\"\" list.insert(index, object): insert on item at the defined index \"\"\"\n",
    "animals.insert(1,\"fish\")\n",
    "print(animals)"
   ]
  },
  {
   "cell_type": "code",
   "execution_count": 15,
   "metadata": {},
   "outputs": [
    {
     "name": "stdout",
     "output_type": "stream",
     "text": [
      "bird\n",
      "['cat', 'fish', 'dog']\n"
     ]
    }
   ],
   "source": [
    "\"\"\" List.pop([index=-1]): removes and returns the last item if the index is not provided \"\"\"\n",
    "print(animals.pop())\n",
    "print(animals)"
   ]
  },
  {
   "cell_type": "code",
   "execution_count": 16,
   "metadata": {},
   "outputs": [
    {
     "name": "stdout",
     "output_type": "stream",
     "text": [
      "0 cat\n",
      "1 fish\n",
      "2 dog\n"
     ]
    }
   ],
   "source": [
    "\"\"\" enumerate(sequenece): adds counter to an iterable and returns it. \"\"\"\n",
    "for i,x in enumerate(animals):\n",
    "    print(i,x)"
   ]
  },
  {
   "cell_type": "code",
   "execution_count": 17,
   "metadata": {},
   "outputs": [
    {
     "name": "stdout",
     "output_type": "stream",
     "text": [
      "[12, 32, 45, 55]\n"
     ]
    }
   ],
   "source": [
    "\"\"\" List sort \"\"\"\n",
    "list1 = [12,45,32,55]\n",
    "\"\"\" list.sort(cmp=None, key=None, reverse=False): sorts the elements of a given list in a specifict ascendence \"\"\"\n",
    "list1.sort()\n",
    "print(list1)"
   ]
  },
  {
   "cell_type": "code",
   "execution_count": 18,
   "metadata": {},
   "outputs": [
    {
     "name": "stdout",
     "output_type": "stream",
     "text": [
      "['catcat', 'fishfish', 'dogdog']\n"
     ]
    }
   ],
   "source": [
    "\"\"\" List comprehesion \n",
    "    define and create a list based on existing list\n",
    "\"\"\"\n",
    "squares = [x*2 for x in animals]\n",
    "print(squares)"
   ]
  },
  {
   "cell_type": "markdown",
   "metadata": {},
   "source": [
    "### 2.3.2 List slicing and indexing\n",
    "\n",
    "List indexing returns te index of the specified element in the list"
   ]
  },
  {
   "cell_type": "code",
   "execution_count": 19,
   "metadata": {},
   "outputs": [
    {
     "data": {
      "text/plain": [
       "4"
      ]
     },
     "execution_count": 19,
     "metadata": {},
     "output_type": "execute_result"
    }
   ],
   "source": [
    "l = [[1,3],[4,5]]\n",
    "l[1][0]"
   ]
  },
  {
   "cell_type": "markdown",
   "metadata": {},
   "source": [
    "list slicing retunrs a slice object can be used to slice strings,list, tuple, tec.\n",
    "\n",
    "list[start,end,step]\n",
    "\n",
    "* start: where slicing starts: Default to none if not provied\n",
    "* end: where slicing stopos.\n",
    "* step: determines the increment between each index for slicing. Defaults to None if not provied"
   ]
  },
  {
   "cell_type": "code",
   "execution_count": 20,
   "metadata": {},
   "outputs": [
    {
     "data": {
      "text/plain": [
       "[0, 2, 4]"
      ]
     },
     "execution_count": 20,
     "metadata": {},
     "output_type": "execute_result"
    }
   ],
   "source": [
    "l = [0,1,2,3,4,5]\n",
    "l[::2]"
   ]
  },
  {
   "cell_type": "code",
   "execution_count": 21,
   "metadata": {},
   "outputs": [
    {
     "data": {
      "text/plain": [
       "[1, 3]"
      ]
     },
     "execution_count": 21,
     "metadata": {},
     "output_type": "execute_result"
    }
   ],
   "source": [
    "l[1:4:2]"
   ]
  },
  {
   "cell_type": "markdown",
   "metadata": {},
   "source": [
    "## 2.4 Tuples\n",
    "\n",
    "tuples are inmutables sequenses, typicaly used to store collections, typicallyused to store collections of heterogeneous data(such as the 2-tuples produced by the enumerate() built-in). Tuples are also used for cases where an inmutable sequence of homogenous data is needed(such as allowing storage in a set or dict instance).\n",
    "\n",
    "(obj1,obj2,...)"
   ]
  },
  {
   "cell_type": "code",
   "execution_count": 22,
   "metadata": {},
   "outputs": [
    {
     "name": "stdout",
     "output_type": "stream",
     "text": [
      "(1, [1, 2], 'Python')\n",
      "<class 'tuple'>\n"
     ]
    }
   ],
   "source": [
    "\"\"\" create a tuple \"\"\"\n",
    "t = (1,[1,2],\"Python\")\n",
    "print(t)\n",
    "print(type(t))"
   ]
  },
  {
   "cell_type": "code",
   "execution_count": 23,
   "metadata": {},
   "outputs": [
    {
     "name": "stdout",
     "output_type": "stream",
     "text": [
      "t1 <class 'int'>\n",
      "t2 <class 'tuple'>\n"
     ]
    }
   ],
   "source": [
    "\"\"\" create a tuple with an item \"\"\"\n",
    "t1 = (5)\n",
    "\"\"\" ', '  is needed\"\"\"\n",
    "t2 = (5,)\n",
    "print(\"t1\",type(t1))\n",
    "print(\"t2\",type(t2))"
   ]
  },
  {
   "cell_type": "code",
   "execution_count": 24,
   "metadata": {},
   "outputs": [
    {
     "name": "stdout",
     "output_type": "stream",
     "text": [
      "2\n"
     ]
    }
   ],
   "source": [
    "\"\"\" Tuple indexing \"\"\"\n",
    "\n",
    "t = (1,2,3)\n",
    "print(t[1])"
   ]
  },
  {
   "cell_type": "code",
   "execution_count": 25,
   "metadata": {},
   "outputs": [
    {
     "ename": "TypeError",
     "evalue": "'tuple' object does not support item assignment",
     "output_type": "error",
     "traceback": [
      "\u001b[1;31m---------------------------------------------------------------------------\u001b[0m",
      "\u001b[1;31mTypeError\u001b[0m                                 Traceback (most recent call last)",
      "\u001b[1;32md:\\python-Huawei-course\\python_course\\python_data_types.ipynb Cell 56\u001b[0m line \u001b[0;36m3\n\u001b[0;32m      <a href='vscode-notebook-cell:/d%3A/python-Huawei-course/python_course/python_data_types.ipynb#Y110sZmlsZQ%3D%3D?line=0'>1</a>\u001b[0m \u001b[39m\"\"\" tuple unchangeable \"\"\"\u001b[39;00m\n\u001b[1;32m----> <a href='vscode-notebook-cell:/d%3A/python-Huawei-course/python_course/python_data_types.ipynb#Y110sZmlsZQ%3D%3D?line=2'>3</a>\u001b[0m t[\u001b[39m1\u001b[39;49m] \u001b[39m=\u001b[39m \u001b[39m0\u001b[39m\n\u001b[0;32m      <a href='vscode-notebook-cell:/d%3A/python-Huawei-course/python_course/python_data_types.ipynb#Y110sZmlsZQ%3D%3D?line=3'>4</a>\u001b[0m \u001b[39mprint\u001b[39m(t)\n",
      "\u001b[1;31mTypeError\u001b[0m: 'tuple' object does not support item assignment"
     ]
    }
   ],
   "source": [
    "\"\"\" tuple unchangeable \"\"\"\n",
    "t[1] = 0\n",
    "print(t)"
   ]
  },
  {
   "cell_type": "markdown",
   "metadata": {},
   "source": [
    "### 2.5 Dictionaries\n",
    "\n",
    "Adictionary is a unorded collection of items. Each item. Each item if dictianary has a key:value pair. The keys within one dictianary are unique. If you store data using a key that is already in use, the old value associated with that key is forgotten. Extracting a value using a non-existent key will cause error.\n",
    "\n",
    "Dictionaries are unorded, changeable and does not duplicates. A pair of braches creates an empty dictionary: {}.\n",
    "\n",
    "{key:value}"
   ]
  },
  {
   "cell_type": "code",
   "execution_count": 2,
   "metadata": {},
   "outputs": [
    {
     "name": "stdout",
     "output_type": "stream",
     "text": [
      "{'food': 'spam', 'quantity': 2, 'color': 'pink'}\n",
      "{'food': 'spam', 'quantity': 4, 'color': 'pink'}\n",
      "{'food': 'spam', 'quantity': 4, 'color': 'pink'}\n"
     ]
    }
   ],
   "source": [
    "\"\"\" Create a dictionary in three diferentes ways \"\"\"\n",
    "x = {\"food\":\"spam\",\"quantity\":2,\"color\":\"pink\"}\n",
    "x2 = dict(food=\"spam\", quantity=4, color=\"pink\")\n",
    "x3 = dict([('food','spam'),('quantity',4),('color','pink')])\n",
    "print(x)\n",
    "print(x2)\n",
    "print(x3)"
   ]
  },
  {
   "cell_type": "markdown",
   "metadata": {},
   "source": [
    "### 2.5.1 Access items in dictionaries"
   ]
  },
  {
   "cell_type": "code",
   "execution_count": 3,
   "metadata": {},
   "outputs": [
    {
     "name": "stdout",
     "output_type": "stream",
     "text": [
      "spam\n"
     ]
    }
   ],
   "source": [
    "\"\"\" extrac values in a dictionary \"\"\"\n",
    "print(x['food'])"
   ]
  },
  {
   "cell_type": "code",
   "execution_count": 5,
   "metadata": {},
   "outputs": [
    {
     "ename": "KeyError",
     "evalue": "'a'",
     "output_type": "error",
     "traceback": [
      "\u001b[1;31m---------------------------------------------------------------------------\u001b[0m",
      "\u001b[1;31mKeyError\u001b[0m                                  Traceback (most recent call last)",
      "\u001b[1;32md:\\python-Huawei-course\\python_course\\python_data_types.ipynb Cell 61\u001b[0m line \u001b[0;36m2\n\u001b[0;32m      <a href='vscode-notebook-cell:/d%3A/python-Huawei-course/python_course/python_data_types.ipynb#Y112sZmlsZQ%3D%3D?line=0'>1</a>\u001b[0m \u001b[39m\"\"\" error key don´t exist \"\"\"\u001b[39;00m\n\u001b[1;32m----> <a href='vscode-notebook-cell:/d%3A/python-Huawei-course/python_course/python_data_types.ipynb#Y112sZmlsZQ%3D%3D?line=1'>2</a>\u001b[0m \u001b[39mprint\u001b[39m(x[\u001b[39m'\u001b[39;49m\u001b[39ma\u001b[39;49m\u001b[39m'\u001b[39;49m])\n",
      "\u001b[1;31mKeyError\u001b[0m: 'a'"
     ]
    }
   ],
   "source": [
    "\"\"\" error key don´t exist \"\"\"\n",
    "print(x['a'])"
   ]
  },
  {
   "cell_type": "code",
   "execution_count": 7,
   "metadata": {},
   "outputs": [
    {
     "name": "stdout",
     "output_type": "stream",
     "text": [
      "spam\n",
      "None\n",
      "None cannot find a\n"
     ]
    }
   ],
   "source": [
    "\"\"\" extract values by get(key,['str']) \"\"\"\n",
    "print(x.get('food'))\n",
    "print(x.get('a')) # return None, because a value using a non-exist\n",
    "print(x.get('a'),'cannot find a')"
   ]
  },
  {
   "cell_type": "code",
   "execution_count": 8,
   "metadata": {},
   "outputs": [
    {
     "name": "stdout",
     "output_type": "stream",
     "text": [
      "dict_keys(['food', 'quantity', 'color'])\n",
      "dict_values(['spam', 2, 'pink'])\n",
      "dict_items([('food', 'spam'), ('quantity', 2), ('color', 'pink')])\n"
     ]
    }
   ],
   "source": [
    "\"\"\" extract all keys \"\"\"\n",
    "print(x.keys())\n",
    "\"\"\" extract all values \"\"\"\n",
    "print(x.values())\n",
    "\"\"\" extract all key:values pairs \"\"\"\n",
    "print(x.items())"
   ]
  },
  {
   "cell_type": "code",
   "execution_count": 9,
   "metadata": {},
   "outputs": [
    {
     "name": "stdout",
     "output_type": "stream",
     "text": [
      "{'food': 'spam', 'quantity': 2, 'color': 'pink', 'x_key': 'x_val'}\n"
     ]
    }
   ],
   "source": [
    "\"\"\" insert an item to a dictionary \"\"\"\n",
    "x['x_key'] = 'x_val'\n",
    "print(x)"
   ]
  },
  {
   "cell_type": "code",
   "execution_count": 10,
   "metadata": {},
   "outputs": [
    {
     "name": "stdout",
     "output_type": "stream",
     "text": [
      "{'food': 'spam', 'quantity': 2, 'color': 'pink', 'x_key': 0}\n"
     ]
    }
   ],
   "source": [
    "\"\"\" change an item in a diccionary \"\"\"\n",
    "x['x_key'] = 0\n",
    "print(x)"
   ]
  },
  {
   "cell_type": "markdown",
   "metadata": {},
   "source": [
    "## 2.6 Sets\n",
    "\n",
    "A set is an unordered collection with no duplicate elements.\n",
    "\n",
    "Set objects also support mathematical operations like union, intersection, difference and symmetric diference.\n",
    "\n",
    "Curlybraces or the set() function can be used to create sets. Note: to create an empty set you have to use set(), not {}; the lather creates an empty dictianary.\n",
    "\n",
    "{obj,obj2...}\n"
   ]
  },
  {
   "cell_type": "code",
   "execution_count": 1,
   "metadata": {},
   "outputs": [
    {
     "name": "stdout",
     "output_type": "stream",
     "text": [
      "{'queen', 'prince'}\n",
      "{'queen', 'prince'}\n"
     ]
    }
   ],
   "source": [
    "sample_set = {'prince','queen'}\n",
    "sample_set2 = set(['prince','queen'])\n",
    "print(sample_set)\n",
    "print(sample_set2)"
   ]
  },
  {
   "cell_type": "code",
   "execution_count": 2,
   "metadata": {},
   "outputs": [
    {
     "name": "stdout",
     "output_type": "stream",
     "text": [
      "False\n",
      "False\n"
     ]
    }
   ],
   "source": [
    "\"\"\" the key in keyword is used to check if a value is present in a sequense \"\"\"\n",
    "print('Data' in sample_set)\n",
    "print('Techs' in sample_set2)"
   ]
  },
  {
   "cell_type": "code",
   "execution_count": 3,
   "metadata": {},
   "outputs": [
    {
     "name": "stdout",
     "output_type": "stream",
     "text": [
      "{'Data', 'queen', 'prince'}\n",
      "3\n"
     ]
    }
   ],
   "source": [
    "\"\"\" set.add(obj): adds a given element to a set. If the elemen is already present, it doesn't add any element \"\"\"\n",
    "sample_set.add('Data')\n",
    "print(sample_set)\n",
    "print(len(sample_set))"
   ]
  },
  {
   "cell_type": "code",
   "execution_count": 4,
   "metadata": {},
   "outputs": [
    {
     "name": "stdout",
     "output_type": "stream",
     "text": [
      "{'queen', 'prince'}\n"
     ]
    }
   ],
   "source": [
    "\"\"\" set.remove(obj): removes an element from a set \"\"\"\n",
    "sample_set.remove('Data')\n",
    "print(sample_set)"
   ]
  },
  {
   "cell_type": "code",
   "execution_count": 5,
   "metadata": {},
   "outputs": [
    {
     "name": "stdout",
     "output_type": "stream",
     "text": [
      "[1, 3, 5]\n"
     ]
    }
   ],
   "source": [
    "\"\"\" set has no duplicate elements, thus can be used to remove duplicates \"\"\"\n",
    "list2 = [1,3,1,5,3]\n",
    "print(list(set(list2)))"
   ]
  },
  {
   "cell_type": "code",
   "execution_count": 6,
   "metadata": {},
   "outputs": [
    {
     "ename": "AttributeError",
     "evalue": "'frozenset' object has no attribute 'add'",
     "output_type": "error",
     "traceback": [
      "\u001b[1;31m---------------------------------------------------------------------------\u001b[0m",
      "\u001b[1;31mAttributeError\u001b[0m                            Traceback (most recent call last)",
      "\u001b[1;32md:\\python-Huawei-course\\python_course\\python_data_types.ipynb Cell 72\u001b[0m line \u001b[0;36m3\n\u001b[0;32m      <a href='vscode-notebook-cell:/d%3A/python-Huawei-course/python_course/python_data_types.ipynb#Y131sZmlsZQ%3D%3D?line=0'>1</a>\u001b[0m \u001b[39m\"\"\" unchangeable set \"\"\"\u001b[39;00m\n\u001b[0;32m      <a href='vscode-notebook-cell:/d%3A/python-Huawei-course/python_course/python_data_types.ipynb#Y131sZmlsZQ%3D%3D?line=1'>2</a>\u001b[0m sample_set \u001b[39m=\u001b[39m \u001b[39mfrozenset\u001b[39m(sample_set)\n\u001b[1;32m----> <a href='vscode-notebook-cell:/d%3A/python-Huawei-course/python_course/python_data_types.ipynb#Y131sZmlsZQ%3D%3D?line=2'>3</a>\u001b[0m sample_set\u001b[39m.\u001b[39;49madd(\u001b[39m'\u001b[39m\u001b[39mcat\u001b[39m\u001b[39m'\u001b[39m)\n",
      "\u001b[1;31mAttributeError\u001b[0m: 'frozenset' object has no attribute 'add'"
     ]
    }
   ],
   "source": [
    "\"\"\" unchangeable set \"\"\"\n",
    "sample_set = frozenset(sample_set)\n",
    "sample_set.add('cat')"
   ]
  },
  {
   "cell_type": "markdown",
   "metadata": {},
   "source": [
    "## 2.7 Operations on data\n",
    "\n",
    "### 2.7.1 Depp copy and Shallow copy\n",
    "\n",
    "Assigment statements in Python do not copy objects, they create bridigs between a target and an object. For collections that are mutable items, a copy is sometimes needed so one can changed one copy without changing the other.\n",
    "\n",
    "copy.copy(x)\n",
    "\n",
    "* Return a shallow copy of x\n",
    "\n",
    "copy.deppcopy(x[,memo])\n",
    "\n",
    "* Return a deep copy of x.\n",
    "\n",
    "The diference between shallon and deep copying is only reñevant for compoud objects(objects that contain othe objects, like list or class instances):\n",
    "\n",
    "* A shallow copy constructs a new compound object and then (to extent possible) inserts references into it to the objects found in the original.\n",
    "\n",
    "* A deep copy constucts a new compound object and then, recursively, inserts copies into it of the objects found in the original."
   ]
  },
  {
   "cell_type": "code",
   "execution_count": 7,
   "metadata": {},
   "outputs": [
    {
     "name": "stdout",
     "output_type": "stream",
     "text": [
      "[99, 2, 3, [4, 5]]\n"
     ]
    }
   ],
   "source": [
    "\"\"\" data assigment \"\"\"\n",
    "\n",
    "a = [1,2,3,[4,5]]\n",
    "b = a # asign a to b\n",
    "b[0] = 99\n",
    "print(a)"
   ]
  },
  {
   "cell_type": "code",
   "execution_count": 8,
   "metadata": {},
   "outputs": [
    {
     "name": "stdout",
     "output_type": "stream",
     "text": [
      "[1, 2, 3, [4, 5]]\n"
     ]
    }
   ],
   "source": [
    "\"\"\" data assigment \"\"\"\n",
    "\n",
    "a = [1,2,3,[4,5]]\n",
    "b = a.copy() # acopy\n",
    "b[0] = 99\n",
    "print(a)"
   ]
  },
  {
   "cell_type": "code",
   "execution_count": 9,
   "metadata": {},
   "outputs": [
    {
     "name": "stdout",
     "output_type": "stream",
     "text": [
      "[1, 2, 3, [4, 5]]\n"
     ]
    }
   ],
   "source": [
    "b[3][0] == 99\n",
    "print(a)"
   ]
  },
  {
   "cell_type": "code",
   "execution_count": 10,
   "metadata": {},
   "outputs": [
    {
     "name": "stdout",
     "output_type": "stream",
     "text": [
      "[1, 2, 3, [4, 5]]\n"
     ]
    }
   ],
   "source": [
    "import copy\n",
    "\"\"\" data assigment \"\"\"\n",
    "\n",
    "a = [1,2,3,[4,5]]\n",
    "b = copy.deepcopy(a) # deepcopy\n",
    "b[3][0] == 99\n",
    "print(a)"
   ]
  },
  {
   "cell_type": "markdown",
   "metadata": {},
   "source": [
    "### 2.7.2 Operators"
   ]
  },
  {
   "cell_type": "code",
   "execution_count": 11,
   "metadata": {},
   "outputs": [
    {
     "name": "stdout",
     "output_type": "stream",
     "text": [
      "a+=1 6\n",
      "a-=1 5\n",
      "a*=1 10\n",
      "a/=1 5.0\n"
     ]
    }
   ],
   "source": [
    "\"\"\" assigment operators \"\"\"\n",
    "a=5\n",
    "a+=1\n",
    "print('a+=1',a)\n",
    "a-=1\n",
    "print('a-=1',a)\n",
    "a*=2\n",
    "print('a*=1',a)\n",
    "a/=2\n",
    "print('a/=1',a)"
   ]
  },
  {
   "cell_type": "code",
   "execution_count": 13,
   "metadata": {},
   "outputs": [
    {
     "name": "stdout",
     "output_type": "stream",
     "text": [
      "False\n",
      "True\n",
      "True\n",
      "False\n"
     ]
    }
   ],
   "source": [
    "\"\"\" comparation operators \"\"\"\n",
    "\n",
    "print(1>=2)\n",
    "print(1<=2)\n",
    "print(1!=2)\n",
    "print(1==2)"
   ]
  },
  {
   "cell_type": "code",
   "execution_count": 14,
   "metadata": {},
   "outputs": [
    {
     "data": {
      "text/plain": [
       "False"
      ]
     },
     "execution_count": 14,
     "metadata": {},
     "output_type": "execute_result"
    }
   ],
   "source": [
    "\"\"\" Logical operators \"\"\"\n",
    "True and False"
   ]
  },
  {
   "cell_type": "code",
   "execution_count": 15,
   "metadata": {},
   "outputs": [
    {
     "data": {
      "text/plain": [
       "True"
      ]
     },
     "execution_count": 15,
     "metadata": {},
     "output_type": "execute_result"
    }
   ],
   "source": [
    "True or False"
   ]
  },
  {
   "cell_type": "code",
   "execution_count": 16,
   "metadata": {},
   "outputs": [
    {
     "data": {
      "text/plain": [
       "False"
      ]
     },
     "execution_count": 16,
     "metadata": {},
     "output_type": "execute_result"
    }
   ],
   "source": [
    "not True"
   ]
  },
  {
   "cell_type": "code",
   "execution_count": 17,
   "metadata": {},
   "outputs": [
    {
     "data": {
      "text/plain": [
       "True"
      ]
     },
     "execution_count": 17,
     "metadata": {},
     "output_type": "execute_result"
    }
   ],
   "source": [
    "\"\"\" memebership operator \"\"\"\n",
    "a = [1,2,3,4]\n",
    "1 in a"
   ]
  },
  {
   "cell_type": "code",
   "execution_count": 18,
   "metadata": {},
   "outputs": [
    {
     "data": {
      "text/plain": [
       "True"
      ]
     },
     "execution_count": 18,
     "metadata": {},
     "output_type": "execute_result"
    }
   ],
   "source": [
    "5 not in a"
   ]
  },
  {
   "cell_type": "code",
   "execution_count": 20,
   "metadata": {},
   "outputs": [
    {
     "name": "stdout",
     "output_type": "stream",
     "text": [
      "True\n",
      "False\n",
      "True\n"
     ]
    }
   ],
   "source": [
    "\"\"\" identity operators \"\"\"\n",
    "a = [1,2]\n",
    "b = a\n",
    "c = a.copy()\n",
    "\n",
    "print(a is b)\n",
    "print(a is c)\n",
    "print(a == b == c)"
   ]
  }
 ],
 "metadata": {
  "kernelspec": {
   "display_name": "python_course",
   "language": "python",
   "name": "python3"
  },
  "language_info": {
   "codemirror_mode": {
    "name": "ipython",
    "version": 3
   },
   "file_extension": ".py",
   "mimetype": "text/x-python",
   "name": "python",
   "nbconvert_exporter": "python",
   "pygments_lexer": "ipython3",
   "version": "3.11.5"
  }
 },
 "nbformat": 4,
 "nbformat_minor": 2
}
