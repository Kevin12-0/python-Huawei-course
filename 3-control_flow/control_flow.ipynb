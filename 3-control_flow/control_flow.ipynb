{
 "cells": [
  {
   "cell_type": "markdown",
   "metadata": {},
   "source": [
    "# 3. Control flow\n",
    "\n",
    "the if, while and for statements implement traditional control flow costructs."
   ]
  },
  {
   "cell_type": "markdown",
   "metadata": {},
   "source": [
    "## 3.1 If statement\n",
    "\n",
    "The if statement is used for conditional execution.\n",
    "\n",
    "It selects exactly one of the suites by evaluating the expressions one by until one is found to be true; then than suite is executed (and no other part of the if statement is executed or evaluated), if all expressions are false, the suite of the else clause, if presebt, is executed.\n",
    "\n",
    "There can be Zero or more elif parts, and else parte is optional. The keyword 'elif' is short for 'else if', and is useful to avoid excessive indentation.\n",
    "\n",
    "An if ... elif .. elif ... sequense is a substitute for the switch or case statements found in other languajes.\n",
    "\n",
    "determine the gade by scores"
   ]
  },
  {
   "cell_type": "code",
   "execution_count": 7,
   "metadata": {},
   "outputs": [],
   "source": [
    "\"\"\" the input is string  \"\"\"\n",
    "score = input('Please enter a score: ')"
   ]
  },
  {
   "cell_type": "code",
   "execution_count": 11,
   "metadata": {},
   "outputs": [
    {
     "data": {
      "text/plain": [
       "float"
      ]
     },
     "execution_count": 11,
     "metadata": {},
     "output_type": "execute_result"
    }
   ],
   "source": [
    "type(score)"
   ]
  },
  {
   "cell_type": "code",
   "execution_count": 12,
   "metadata": {},
   "outputs": [],
   "source": [
    "\"\"\" transform the string to a floating-point number \"\"\"\n",
    "score = float(score)"
   ]
  },
  {
   "cell_type": "code",
   "execution_count": 13,
   "metadata": {},
   "outputs": [
    {
     "name": "stdout",
     "output_type": "stream",
     "text": [
      "A\n"
     ]
    }
   ],
   "source": [
    "if 100>=score>=60:\n",
    "    print('A')\n",
    "else:\n",
    "    print('F')"
   ]
  },
  {
   "cell_type": "code",
   "execution_count": 14,
   "metadata": {},
   "outputs": [
    {
     "name": "stdout",
     "output_type": "stream",
     "text": [
      "C\n"
     ]
    }
   ],
   "source": [
    "if 100>=score>90:\n",
    "    print('A')\n",
    "elif 90 > score >=80:\n",
    "    print('b')\n",
    "elif 80>score>=60:\n",
    "    print('C')\n",
    "elif 60>score>=0:\n",
    "    print('f')\n",
    "else:\n",
    "    print('pelase enter a correct score')"
   ]
  },
  {
   "cell_type": "markdown",
   "metadata": {},
   "source": [
    "The conditions can be True or Flase. 0 and None value are also False, while the others values are True"
   ]
  },
  {
   "cell_type": "code",
   "execution_count": 15,
   "metadata": {},
   "outputs": [
    {
     "name": "stdout",
     "output_type": "stream",
     "text": [
      "T\n",
      "python\n"
     ]
    }
   ],
   "source": [
    "if 0:\n",
    "    print('f')\n",
    "if 1:\n",
    "    print('T')\n",
    "if 'python':\n",
    "    print('python')\n",
    "if None:\n",
    "    print('None')"
   ]
  },
  {
   "cell_type": "markdown",
   "metadata": {},
   "source": [
    "## 3.2 loops"
   ]
  },
  {
   "cell_type": "markdown",
   "metadata": {},
   "source": [
    "### 3.2.1 while loop\n",
    "\n",
    "Th while statement is used for repeated as long as an expression is true. It's used when we don´t know the number of times to iterate beforehand.\n",
    "\n",
    "A break statement excuted in the first suite terminates the loop without executing the else clause´s suite.\n",
    "\n",
    "A continue statement excuted in the first suite skips the rest of the suite and goes back to testing the expression. "
   ]
  },
  {
   "cell_type": "code",
   "execution_count": 16,
   "metadata": {},
   "outputs": [
    {
     "name": "stdout",
     "output_type": "stream",
     "text": [
      "1\n",
      "2\n",
      "3\n",
      "4\n",
      "5\n",
      "6\n",
      "7\n",
      "8\n",
      "9\n",
      "loops ends\n"
     ]
    }
   ],
   "source": [
    "i = 0\n",
    "while i<9:\n",
    "    i+=1\n",
    "    print(i)\n",
    "else:\n",
    "    print('loops ends')"
   ]
  },
  {
   "cell_type": "code",
   "execution_count": 18,
   "metadata": {},
   "outputs": [
    {
     "name": "stdout",
     "output_type": "stream",
     "text": [
      "1\n",
      "2\n",
      "skip this loop\n",
      "4\n",
      "5\n",
      "6\n",
      "7\n",
      "8\n",
      "9\n",
      "loop ends\n"
     ]
    }
   ],
   "source": [
    "i = 0\n",
    "while i<9:\n",
    "    i+=1\n",
    "    if i == 3:\n",
    "        print(\"skip this loop\")\n",
    "        \"\"\" continue skips of the suite and goes back to testing the expression \"\"\"\n",
    "        continue\n",
    "    print(i)\n",
    "else:\n",
    "    print('loop ends')"
   ]
  },
  {
   "cell_type": "code",
   "execution_count": 19,
   "metadata": {},
   "outputs": [
    {
     "name": "stdout",
     "output_type": "stream",
     "text": [
      "1\n",
      "2\n",
      "3\n",
      "4\n",
      "Terminates the loop\n"
     ]
    }
   ],
   "source": [
    "i = 0\n",
    "while i<9:\n",
    "    i+=1\n",
    "    if i==5:\n",
    "        print('Terminates the loop')\n",
    "        \"\"\" terminates the loop without executing the else clause´s suite \"\"\"\n",
    "        break\n",
    "    print(i)\n",
    "else:\n",
    "    print('loop ends')"
   ]
  },
  {
   "cell_type": "markdown",
   "metadata": {},
   "source": [
    "### 3.2.2 for loop\n",
    "\n",
    "the statement is used to iterate iver element of sequense (such as a string, tuple or list) or the iterable object."
   ]
  },
  {
   "cell_type": "code",
   "execution_count": 1,
   "metadata": {},
   "outputs": [
    {
     "name": "stdout",
     "output_type": "stream",
     "text": [
      "first\n",
      "second\n",
      "third\n"
     ]
    }
   ],
   "source": [
    "times = ['first','second','third']\n",
    "for i in times:\n",
    "    print(i)"
   ]
  },
  {
   "cell_type": "markdown",
   "metadata": {},
   "source": [
    "Else element can be added in the end on for statement. It will be excused when the loop normaly ends."
   ]
  },
  {
   "cell_type": "code",
   "execution_count": 2,
   "metadata": {},
   "outputs": [
    {
     "name": "stdout",
     "output_type": "stream",
     "text": [
      "first\n",
      "second\n",
      "third\n",
      "The loop ends\n"
     ]
    }
   ],
   "source": [
    "for i in times:\n",
    "    print(i)\n",
    "else:\n",
    "    print(\"The loop ends\")"
   ]
  },
  {
   "cell_type": "markdown",
   "metadata": {},
   "source": [
    "### 3.2.3 Nested Loops\n",
    "\n",
    "Loops can be nested in Python. A nested loop is a loop that occurs within another loop. Nested loops go over two or more loops.\n"
   ]
  },
  {
   "cell_type": "code",
   "execution_count": 6,
   "metadata": {},
   "outputs": [
    {
     "name": "stdout",
     "output_type": "stream",
     "text": [
      "1X1=1  \n",
      "1X2=2  2X2=4  \n",
      "1X3=3  2X3=6  3X3=9  \n",
      "1X4=4  2X4=8  3X4=12 4X4=16 \n",
      "1X5=5  2X5=10 3X5=15 4X5=20 5X5=25 \n",
      "1X6=6  2X6=12 3X6=18 4X6=24 5X6=30 6X6=36 \n",
      "1X7=7  2X7=14 3X7=21 4X7=28 5X7=35 6X7=42 7X7=49 \n",
      "1X8=8  2X8=16 3X8=24 4X8=32 5X8=40 6X8=48 7X8=56 8X8=64 \n",
      "1X9=9  2X9=18 3X9=27 4X9=36 5X9=45 6X9=54 7X9=63 8X9=72 9X9=81 \n"
     ]
    }
   ],
   "source": [
    "\"\"\" write a multiplication table \"\"\"\n",
    "\n",
    "for i in range(1,10):\n",
    "    for j in range(1,i+1):\n",
    "        \"\"\" string formatting \"\"\"\n",
    "        print(\"%dX%d=%-2d\"%(j,i,j*i),end=\" \")\n",
    "    print()"
   ]
  }
 ],
 "metadata": {
  "kernelspec": {
   "display_name": "python_course",
   "language": "python",
   "name": "python3"
  },
  "language_info": {
   "codemirror_mode": {
    "name": "ipython",
    "version": 3
   },
   "file_extension": ".py",
   "mimetype": "text/x-python",
   "name": "python",
   "nbconvert_exporter": "python",
   "pygments_lexer": "ipython3",
   "version": "3.11.5"
  }
 },
 "nbformat": 4,
 "nbformat_minor": 2
}
