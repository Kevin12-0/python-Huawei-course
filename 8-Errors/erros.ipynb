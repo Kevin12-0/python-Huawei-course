{
 "cells": [
  {
   "cell_type": "markdown",
   "metadata": {},
   "source": [
    "# 3. erros and Exceptions"
   ]
  },
  {
   "cell_type": "code",
   "execution_count": 1,
   "metadata": {},
   "outputs": [
    {
     "ename": "SyntaxError",
     "evalue": "invalid syntax (2903649878.py, line 1)",
     "output_type": "error",
     "traceback": [
      "\u001b[1;36m  Cell \u001b[1;32mIn[1], line 1\u001b[1;36m\u001b[0m\n\u001b[1;33m    this is invalid sytax\u001b[0m\n\u001b[1;37m                    ^\u001b[0m\n\u001b[1;31mSyntaxError\u001b[0m\u001b[1;31m:\u001b[0m invalid syntax\n"
     ]
    }
   ],
   "source": [
    "this is invalid sytax"
   ]
  },
  {
   "cell_type": "code",
   "execution_count": 2,
   "metadata": {},
   "outputs": [
    {
     "name": "stdout",
     "output_type": "stream",
     "text": [
      "division by zero\n",
      "Python is cool\n"
     ]
    }
   ],
   "source": [
    "# Catch errors or exceptions with try-except statatement\n",
    "\n",
    "try:\n",
    "    print(1/0)\n",
    "except Exception as e:\n",
    "    print(e)\n",
    "finally:\n",
    "    print('Python is cool')"
   ]
  },
  {
   "cell_type": "code",
   "execution_count": 3,
   "metadata": {},
   "outputs": [
    {
     "name": "stdout",
     "output_type": "stream",
     "text": [
      "List Index out range\n",
      "Python is cool\n"
     ]
    }
   ],
   "source": [
    "# Catch erros or exceptions with try-except statement\n",
    "\n",
    "a = input()\n",
    "try:\n",
    "    b = [i for i in range(int(a))] # if a<5, there will be an error\n",
    "    print(b[4]/0)\n",
    "except ZeroDivisionError:\n",
    "    print('Division by zero')\n",
    "except ValueError:\n",
    "    print('ValueError')\n",
    "except IndexError:\n",
    "    print('List Index out range')\n",
    "finally:\n",
    "    print('Python is cool')"
   ]
  },
  {
   "cell_type": "code",
   "execution_count": 4,
   "metadata": {},
   "outputs": [],
   "source": [
    "\"\"\" custom exception \"\"\"\n",
    "\n",
    "class MyError(Exception):\n",
    "    def __init__(self, ErrorInfo):\n",
    "        super().__init__(self)\n",
    "        self.errorInfo=ErrorInfo\n",
    "    def __str__(self):\n",
    "        return self.errorInfo"
   ]
  },
  {
   "cell_type": "code",
   "execution_count": 5,
   "metadata": {},
   "outputs": [
    {
     "ename": "MyError",
     "evalue": "my exception",
     "output_type": "error",
     "traceback": [
      "\u001b[1;31m---------------------------------------------------------------------------\u001b[0m",
      "\u001b[1;31mMyError\u001b[0m                                   Traceback (most recent call last)",
      "\u001b[1;32md:\\python-Huawei-course\\8-Errors\\erros.ipynb Cell 6\u001b[0m line \u001b[0;36m2\n\u001b[0;32m      <a href='vscode-notebook-cell:/d%3A/python-Huawei-course/8-Errors/erros.ipynb#W5sZmlsZQ%3D%3D?line=0'>1</a>\u001b[0m \u001b[39m\"\"\" trow an exception \"\"\"\u001b[39;00m\n\u001b[1;32m----> <a href='vscode-notebook-cell:/d%3A/python-Huawei-course/8-Errors/erros.ipynb#W5sZmlsZQ%3D%3D?line=1'>2</a>\u001b[0m \u001b[39mraise\u001b[39;00m MyError(\u001b[39m'\u001b[39m\u001b[39mmy exception\u001b[39m\u001b[39m'\u001b[39m)\n",
      "\u001b[1;31mMyError\u001b[0m: my exception"
     ]
    }
   ],
   "source": [
    "\"\"\" trow an exception \"\"\"\n",
    "raise MyError('my exception')"
   ]
  },
  {
   "cell_type": "code",
   "execution_count": 6,
   "metadata": {},
   "outputs": [
    {
     "ename": "AssertionError",
     "evalue": "",
     "output_type": "error",
     "traceback": [
      "\u001b[1;31m---------------------------------------------------------------------------\u001b[0m",
      "\u001b[1;31mAssertionError\u001b[0m                            Traceback (most recent call last)",
      "\u001b[1;32md:\\python-Huawei-course\\8-Errors\\erros.ipynb Cell 7\u001b[0m line \u001b[0;36m6\n\u001b[0;32m      <a href='vscode-notebook-cell:/d%3A/python-Huawei-course/8-Errors/erros.ipynb#W6sZmlsZQ%3D%3D?line=3'>4</a>\u001b[0m \u001b[39m    \u001b[39m\u001b[39m\"\"\" if not a == b, Python will throw an exception \"\"\"\u001b[39;00m\n\u001b[0;32m      <a href='vscode-notebook-cell:/d%3A/python-Huawei-course/8-Errors/erros.ipynb#W6sZmlsZQ%3D%3D?line=4'>5</a>\u001b[0m     \u001b[39massert\u001b[39;00m a \u001b[39m==\u001b[39m b\n\u001b[1;32m----> <a href='vscode-notebook-cell:/d%3A/python-Huawei-course/8-Errors/erros.ipynb#W6sZmlsZQ%3D%3D?line=5'>6</a>\u001b[0m func(\u001b[39m1\u001b[39;49m,\u001b[39m2\u001b[39;49m)\n",
      "\u001b[1;32md:\\python-Huawei-course\\8-Errors\\erros.ipynb Cell 7\u001b[0m line \u001b[0;36m5\n\u001b[0;32m      <a href='vscode-notebook-cell:/d%3A/python-Huawei-course/8-Errors/erros.ipynb#W6sZmlsZQ%3D%3D?line=2'>3</a>\u001b[0m \u001b[39mdef\u001b[39;00m \u001b[39mfunc\u001b[39m(a,b):\n\u001b[0;32m      <a href='vscode-notebook-cell:/d%3A/python-Huawei-course/8-Errors/erros.ipynb#W6sZmlsZQ%3D%3D?line=3'>4</a>\u001b[0m \u001b[39m    \u001b[39m\u001b[39m\"\"\" if not a == b, Python will throw an exception \"\"\"\u001b[39;00m\n\u001b[1;32m----> <a href='vscode-notebook-cell:/d%3A/python-Huawei-course/8-Errors/erros.ipynb#W6sZmlsZQ%3D%3D?line=4'>5</a>\u001b[0m     \u001b[39massert\u001b[39;00m a \u001b[39m==\u001b[39m b\n",
      "\u001b[1;31mAssertionError\u001b[0m: "
     ]
    }
   ],
   "source": [
    "\"\"\" assert statement \"\"\"\n",
    "\n",
    "def func(a,b):\n",
    "    \"\"\" if not a == b, Python will throw an exception \"\"\"\n",
    "    assert a == b\n",
    "func(1,2)"
   ]
  }
 ],
 "metadata": {
  "kernelspec": {
   "display_name": "Python 3",
   "language": "python",
   "name": "python3"
  },
  "language_info": {
   "codemirror_mode": {
    "name": "ipython",
    "version": 3
   },
   "file_extension": ".py",
   "mimetype": "text/x-python",
   "name": "python",
   "nbconvert_exporter": "python",
   "pygments_lexer": "ipython3",
   "version": "3.12.0"
  }
 },
 "nbformat": 4,
 "nbformat_minor": 2
}
