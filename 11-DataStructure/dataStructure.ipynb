{
 "cells": [
  {
   "cell_type": "markdown",
   "metadata": {},
   "source": [
    "# 6. Data Structure\n",
    "\n",
    "## 6.1 Singly Linked list\n",
    "\n",
    "### 6.1.1 Define the basic elemet, node, of the linked list"
   ]
  },
  {
   "cell_type": "code",
   "execution_count": 60,
   "metadata": {},
   "outputs": [],
   "source": [
    "# define the basic element that forms the list\n",
    "class Node:\n",
    "    # constructor\n",
    "    def __init__(self, data = None, next_node = None):\n",
    "        self.__data = data\n",
    "        self.__next_node = next_node\n",
    "    \n",
    "    # get data\n",
    "    \n",
    "    def get_data(self):\n",
    "        return self.__data\n",
    "    #get next node\n",
    "    def get_next(self):\n",
    "        return self.__next_node\n",
    "    # set next node\n",
    "    def set_next(self, new_next):\n",
    "        self.__next_node = new_next"
   ]
  },
  {
   "cell_type": "markdown",
   "metadata": {},
   "source": [
    "### 6.1.2 Define the list"
   ]
  },
  {
   "cell_type": "code",
   "execution_count": 61,
   "metadata": {},
   "outputs": [],
   "source": [
    "class SinglyLinkedList:\n",
    "    \n",
    "    #constructor\n",
    "    def __init__(self):\n",
    "        self.__head = Node('__head__')\n",
    "    \n",
    "    # get the first node that contains the specified data\n",
    "    def get_node(self, data):\n",
    "        current = self.__head\n",
    "        \n",
    "        # go through the list until it finds a match, or reach the end of the list\n",
    "        while current:\n",
    "            if current.get_data() == data:\n",
    "                return current\n",
    "            else:\n",
    "                current = current.get_next()\n",
    "            \n",
    "        return None\n",
    "    # delete the first node that contains the specified data\n",
    "    def delete(self, data):\n",
    "        current = self.__head\n",
    "        previous = None\n",
    "        #go through the list until it finds a match, or reach the end of the list\n",
    "        while current:\n",
    "            if current.get_data() == data:\n",
    "                previous.set_next(current.get_next())\n",
    "                break;\n",
    "            else:\n",
    "                previous = current\n",
    "                current = current.get_next()\n",
    "    \n",
    "    # append new node to the end of the list\n",
    "    def append(self, data):\n",
    "        current = self.__head\n",
    "        # go to the last node in the list\n",
    "        while current.get_next():\n",
    "            current = current.get_next()\n",
    "        # append at the end of the list\n",
    "        current.set_next(Node(data))\n",
    "        \n",
    "        # get the number of nodes in the list\n",
    "    def size(self):\n",
    "        current = self.__head\n",
    "        count = 0\n",
    "        while current:\n",
    "            count +=1\n",
    "            current = current.get_next()\n",
    "        return count-1\n",
    "    \n",
    "    def print_list(self):\n",
    "        current = self.__head.get_next()\n",
    "        while current:\n",
    "            print(current.get_data())\n",
    "            current = current.get_next()"
   ]
  },
  {
   "cell_type": "markdown",
   "metadata": {},
   "source": [
    "### 6.1.3 Test our list"
   ]
  },
  {
   "cell_type": "code",
   "execution_count": 62,
   "metadata": {},
   "outputs": [],
   "source": [
    "# create list\n",
    "l = SinglyLinkedList()"
   ]
  },
  {
   "cell_type": "code",
   "execution_count": 63,
   "metadata": {},
   "outputs": [
    {
     "name": "stdout",
     "output_type": "stream",
     "text": [
      "cat\n"
     ]
    }
   ],
   "source": [
    "l.append('cat')\n",
    "l.print_list()"
   ]
  },
  {
   "cell_type": "code",
   "execution_count": 64,
   "metadata": {},
   "outputs": [
    {
     "name": "stdout",
     "output_type": "stream",
     "text": [
      "cat\n",
      "dog\n",
      "fish\n",
      "horse\n"
     ]
    }
   ],
   "source": [
    "# apend\n",
    "l.append('dog')\n",
    "l.append('fish')\n",
    "l.append('horse')\n",
    "l.print_list()"
   ]
  },
  {
   "cell_type": "code",
   "execution_count": 65,
   "metadata": {},
   "outputs": [
    {
     "name": "stdout",
     "output_type": "stream",
     "text": [
      "fish\n"
     ]
    }
   ],
   "source": [
    "# get_node\n",
    "node = l.get_node('fish')\n",
    "print(node.get_data())"
   ]
  },
  {
   "cell_type": "code",
   "execution_count": 66,
   "metadata": {},
   "outputs": [
    {
     "data": {
      "text/plain": [
       "4"
      ]
     },
     "execution_count": 66,
     "metadata": {},
     "output_type": "execute_result"
    }
   ],
   "source": [
    "# size\n",
    "l.size()"
   ]
  },
  {
   "cell_type": "markdown",
   "metadata": {},
   "source": [
    "## 6.2 Doubly linked list\n",
    "\n",
    "### 6.2.1 Define the basic elemet, node, of the linked list"
   ]
  },
  {
   "cell_type": "code",
   "execution_count": 67,
   "metadata": {},
   "outputs": [],
   "source": [
    "# define the basic element that forms the list.\n",
    "\n",
    "class Node:\n",
    "    # constructor\n",
    "    def __init__(self, data = None, next_node=None, prev_node=None):\n",
    "        self.__data = data\n",
    "        self.__next_node = next_node\n",
    "        self.__prev_node = prev_node\n",
    "    # get data\n",
    "    def get_data(self):\n",
    "        return self.__data\n",
    "    # get next node\n",
    "    def get_next(self):\n",
    "        return self.__next_node\n",
    "    #set next node\n",
    "    def set_next(self, new_next):\n",
    "        self.__next_node = new_next\n",
    "    \n",
    "    # get prev node\n",
    "    def get_prev(self):\n",
    "        return self.__prev_node\n",
    "    # set prev node\n",
    "    def set_prev(self, new_prev):\n",
    "        self.__prev_node = new_prev"
   ]
  },
  {
   "cell_type": "markdown",
   "metadata": {},
   "source": [
    "### 6.2.2 Define the list"
   ]
  },
  {
   "cell_type": "code",
   "execution_count": 68,
   "metadata": {},
   "outputs": [],
   "source": [
    "class DoublyLinkedList:\n",
    "    # constructor\n",
    "    def __init__(self):\n",
    "        head = Node('__head__')\n",
    "        self.__head = head\n",
    "        self.__tail = head\n",
    "    # get the list that contains the specified data\n",
    "    def get_node(self, data):\n",
    "        current = self.__head\n",
    "        \n",
    "        # go the through the list until it field a match, or reacyh the end of the list\n",
    "        \n",
    "        while current:\n",
    "            if current.get_data() == data:\n",
    "                return current\n",
    "            else:\n",
    "                current = current.get_next()\n",
    "        return None\n",
    "    \n",
    "    # append new node to the end of the list\n",
    "    def append(self, data):\n",
    "        new_tail = Node(data)\n",
    "        self.__tail.set_next(new_tail)\n",
    "        new_tail.set_prev(self.__tail)\n",
    "        self.__tail = new_tail\n",
    "        \n",
    "    # delete the first node that contains the specified data\n",
    "    def delete(self, data):\n",
    "        del_node = self.get_node(data)\n",
    "        if del_node:\n",
    "            prev_node = del_node.get_prev()\n",
    "            next_node = del_node.get_next()\n",
    "            prev_node.set_next(next_node)\n",
    "            if next_node:\n",
    "                next_node.set_prev(prev_node)\n",
    "            else:\n",
    "                self.__tail = prev_node\n",
    "    # get the number of nodes in the list\n",
    "    def size(self):\n",
    "        current = self.__head\n",
    "        count = 0\n",
    "        while current:\n",
    "            current = current.get_next()\n",
    "            count +=1\n",
    "        return count -1\n",
    "    def print_list(self):\n",
    "        current = self.__head.get_next()\n",
    "        while current:\n",
    "            print(current.get_data())\n",
    "            current = current.get_next()\n",
    "    \n",
    "    def print_backwards(self):\n",
    "        current = self.__tail\n",
    "        while current.get_prev():\n",
    "            print(current.get_data())\n",
    "            current = current.get_prev()"
   ]
  },
  {
   "cell_type": "markdown",
   "metadata": {},
   "source": [
    "### 6.2.3 test our list"
   ]
  },
  {
   "cell_type": "code",
   "execution_count": 69,
   "metadata": {},
   "outputs": [],
   "source": [
    "# create list\n",
    "l = DoublyLinkedList()"
   ]
  },
  {
   "cell_type": "code",
   "execution_count": 70,
   "metadata": {},
   "outputs": [
    {
     "name": "stdout",
     "output_type": "stream",
     "text": [
      "cat\n",
      "dog\n",
      "fish\n",
      "horse\n"
     ]
    }
   ],
   "source": [
    "# append\n",
    "l.append('cat')\n",
    "l.append('dog')\n",
    "l.append('fish')\n",
    "l.append('horse')\n",
    "l.print_list()"
   ]
  },
  {
   "cell_type": "code",
   "execution_count": 71,
   "metadata": {},
   "outputs": [
    {
     "name": "stdout",
     "output_type": "stream",
     "text": [
      "horse\n",
      "fish\n",
      "dog\n",
      "cat\n"
     ]
    }
   ],
   "source": [
    "l.print_backwards()"
   ]
  },
  {
   "cell_type": "code",
   "execution_count": 72,
   "metadata": {},
   "outputs": [
    {
     "name": "stdout",
     "output_type": "stream",
     "text": [
      "dog\n",
      "fish\n",
      "horse\n"
     ]
    }
   ],
   "source": [
    "# delete\n",
    "l.delete('cat')\n",
    "l.print_list()"
   ]
  },
  {
   "cell_type": "code",
   "execution_count": 73,
   "metadata": {},
   "outputs": [
    {
     "data": {
      "text/plain": [
       "3"
      ]
     },
     "execution_count": 73,
     "metadata": {},
     "output_type": "execute_result"
    }
   ],
   "source": [
    "l.size()"
   ]
  },
  {
   "cell_type": "markdown",
   "metadata": {},
   "source": [
    "## 6.3 Binary tree\n",
    "\n",
    "A binary tree is a tree data structured in which each node has at mos two children, which are referred to as the left child and right child.\n",
    "\n",
    "Traversal is a process of visiting all the nodes of a tree. There are three ways which we use to traverse a tree:\n",
    "\n",
    "* in-order traversal\n",
    "* pre-order traversal\n",
    "* post-order traversal"
   ]
  },
  {
   "cell_type": "code",
   "execution_count": 74,
   "metadata": {},
   "outputs": [],
   "source": [
    "# binary treenode\n",
    "\n",
    "class BinaryTreeNode(object):\n",
    "    def __init__(self):\n",
    "        self.data = '#'\n",
    "        self.leftchild = None\n",
    "        self.rightChild = None"
   ]
  },
  {
   "cell_type": "code",
   "execution_count": 76,
   "metadata": {},
   "outputs": [],
   "source": [
    "class BinaryTree(object):\n",
    "    # create a binery tree\n",
    "    def createBinaryTree(self, Root):\n",
    "        data = input('==>')\n",
    "        if data == '#':\n",
    "            Root = None\n",
    "        else:\n",
    "            Root.data = data\n",
    "            Root.leftChild = BinaryTreeNode()\n",
    "            self.createBinaryTree(Root.leftChild)\n",
    "            Root.rightChild = BinaryTreeNode()\n",
    "            self.createBinaryTree(Root.rightChild)\n",
    "    def preOrder(self, Root):\n",
    "        if Root is not None:\n",
    "            self.visitBinaryTreeNode(Root)\n",
    "            self.preOrder(Root.leftChild)\n",
    "            self.preOrder(Root.rightChild)\n",
    "    \n",
    "    def inOrder(self,Root):\n",
    "        if Root is not None:\n",
    "            self.inOrder(Root.leftChild)\n",
    "            self.visitBinaryTreeNode(Root)\n",
    "            self.inOrder(Root.rightChild)\n",
    "    \n",
    "    def postOrder(self,Root):\n",
    "        if Root is not None:\n",
    "            self.postOrder(Root.leftChild)\n",
    "            self.postOrder(Root.rightChild)\n",
    "            self.visitBinaryTreeNode(Root)\n",
    "    \n",
    "    def visitBinaryTreeNode(self, BinaryTreeNode):\n",
    "        # pound sign(#) means empty node.\n",
    "        if BinaryTreeNode.data != '#':\n",
    "            print(BinaryTreeNode.data, end = '->')"
   ]
  },
  {
   "cell_type": "code",
   "execution_count": 78,
   "metadata": {},
   "outputs": [],
   "source": [
    "bTN = BinaryTreeNode()\n",
    "bT = BinaryTree()\n",
    "bT.createBinaryTree(bTN)\n",
    "print('pre_order: ')\n",
    "bT.preOrder(bTN)\n",
    "print('\\nin Order: ')\n",
    "bT.inOrder(bTN)\n",
    "print('\\npost_order: ')\n",
    "bT.postOrder(bTN)"
   ]
  },
  {
   "cell_type": "code",
   "execution_count": null,
   "metadata": {},
   "outputs": [],
   "source": []
  },
  {
   "cell_type": "code",
   "execution_count": null,
   "metadata": {},
   "outputs": [],
   "source": []
  },
  {
   "cell_type": "code",
   "execution_count": null,
   "metadata": {},
   "outputs": [],
   "source": []
  },
  {
   "cell_type": "code",
   "execution_count": null,
   "metadata": {},
   "outputs": [],
   "source": []
  },
  {
   "cell_type": "code",
   "execution_count": null,
   "metadata": {},
   "outputs": [],
   "source": []
  },
  {
   "cell_type": "code",
   "execution_count": null,
   "metadata": {},
   "outputs": [],
   "source": []
  },
  {
   "cell_type": "code",
   "execution_count": null,
   "metadata": {},
   "outputs": [],
   "source": []
  },
  {
   "cell_type": "code",
   "execution_count": null,
   "metadata": {},
   "outputs": [],
   "source": []
  },
  {
   "cell_type": "code",
   "execution_count": null,
   "metadata": {},
   "outputs": [],
   "source": []
  },
  {
   "cell_type": "code",
   "execution_count": null,
   "metadata": {},
   "outputs": [],
   "source": []
  },
  {
   "cell_type": "code",
   "execution_count": null,
   "metadata": {},
   "outputs": [],
   "source": []
  },
  {
   "cell_type": "code",
   "execution_count": null,
   "metadata": {},
   "outputs": [],
   "source": []
  },
  {
   "cell_type": "code",
   "execution_count": null,
   "metadata": {},
   "outputs": [],
   "source": []
  },
  {
   "cell_type": "code",
   "execution_count": null,
   "metadata": {},
   "outputs": [],
   "source": []
  },
  {
   "cell_type": "code",
   "execution_count": null,
   "metadata": {},
   "outputs": [],
   "source": []
  }
 ],
 "metadata": {
  "kernelspec": {
   "display_name": "Python 3",
   "language": "python",
   "name": "python3"
  },
  "language_info": {
   "codemirror_mode": {
    "name": "ipython",
    "version": 3
   },
   "file_extension": ".py",
   "mimetype": "text/x-python",
   "name": "python",
   "nbconvert_exporter": "python",
   "pygments_lexer": "ipython3",
   "version": "3.12.0"
  }
 },
 "nbformat": 4,
 "nbformat_minor": 2
}
