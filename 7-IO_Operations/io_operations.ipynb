{
 "cells": [
  {
   "cell_type": "markdown",
   "metadata": {},
   "source": [
    "# 2. File I/O\n",
    "## 2.1 Python allows you to read, write and delete files\n",
    "\n",
    "to read a file, we can use:\n",
    "\n",
    "* open(file, mode='r', buffering=-1,encoding=None, errors=None,newlinw=None,closefd=True,opener=None)\n",
    "    * -file: a ptha-like giving the pathname (absolute or relative to the current working directory) of the file to be opened\n",
    "    * -mode: describes the way in wich the file will be used (r:read only, w:wirte only, a:append, r+: read and write; *b: opens the file in binary mode)\n",
    "    * -enconding: spcify encoding\n",
    "\n",
    "example: f = open('file_name':'r',encoding='utf8') "
   ]
  },
  {
   "cell_type": "code",
   "execution_count": 2,
   "metadata": {},
   "outputs": [],
   "source": [
    "f = open('text.txt','w',encoding='utf8') # open text.txt, if not exist, Python will create the file."
   ]
  },
  {
   "cell_type": "code",
   "execution_count": 3,
   "metadata": {},
   "outputs": [],
   "source": [
    "inputs = input('input: ')\n",
    "f.write(inputs)\n",
    "f.close()"
   ]
  },
  {
   "cell_type": "code",
   "execution_count": 4,
   "metadata": {},
   "outputs": [
    {
     "name": "stdout",
     "output_type": "stream",
     "text": [
      "Hola M\n",
      "undo esto es una prueba de escritura\n"
     ]
    }
   ],
   "source": [
    "f = open('text.txt','r')\n",
    "print(f.read(6)) # read 6 character from the current position(default is 0).\n",
    "print(f.read()) # read from current posistion to the end\n",
    "f.close()"
   ]
  },
  {
   "cell_type": "code",
   "execution_count": 5,
   "metadata": {},
   "outputs": [],
   "source": [
    "f = open('text.txt','a')\n",
    "f.write(' I appened more content!')\n",
    "f.close()"
   ]
  },
  {
   "cell_type": "code",
   "execution_count": 6,
   "metadata": {},
   "outputs": [
    {
     "name": "stdout",
     "output_type": "stream",
     "text": [
      "Hola Mundo esto es una prueba de escritura I appened more content!\n"
     ]
    }
   ],
   "source": [
    "f = open('text.txt','r')\n",
    "print(f.read())\n",
    "f.close()"
   ]
  },
  {
   "cell_type": "code",
   "execution_count": 7,
   "metadata": {},
   "outputs": [
    {
     "name": "stdout",
     "output_type": "stream",
     "text": [
      "python is cool\n",
      "this is a pen\n",
      "I like apple\n"
     ]
    }
   ],
   "source": [
    "\"\"\" use with statement to open file \"\"\"\n",
    "\n",
    "with open('text1.txt','w') as f:\n",
    "    f.write('python is cool\\nthis is a pen\\nI like apple')\n",
    "\"\"\" use with statement to read file \"\"\"\n",
    "with open('text1.txt', 'r') as f:\n",
    "    print(f.read())"
   ]
  },
  {
   "cell_type": "code",
   "execution_count": 8,
   "metadata": {},
   "outputs": [
    {
     "name": "stdout",
     "output_type": "stream",
     "text": [
      "read one line: python is cool\n",
      "\n",
      "['this is a pen\\n', 'I like apple']\n"
     ]
    }
   ],
   "source": [
    "\"\"\" open file \"\"\"\n",
    "with open('text1.txt','r') as f:\n",
    "    line = f.readline()\n",
    "    print('read one line: %s'%(line))\n",
    "    \n",
    "    lines = f.readlines()\n",
    "    print(lines)"
   ]
  }
 ],
 "metadata": {
  "kernelspec": {
   "display_name": "Python 3",
   "language": "python",
   "name": "python3"
  },
  "language_info": {
   "codemirror_mode": {
    "name": "ipython",
    "version": 3
   },
   "file_extension": ".py",
   "mimetype": "text/x-python",
   "name": "python",
   "nbconvert_exporter": "python",
   "pygments_lexer": "ipython3",
   "version": "3.12.0"
  }
 },
 "nbformat": 4,
 "nbformat_minor": 2
}
