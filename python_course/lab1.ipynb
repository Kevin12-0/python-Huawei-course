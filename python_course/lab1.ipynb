{
 "cells": [
  {
   "cell_type": "markdown",
   "id": "f6eff51b",
   "metadata": {},
   "source": [
    "# 1. Python basic\n",
    "\n",
    "## Usando la funcion print() para imprimir hola mundo de diferentes maneras"
   ]
  },
  {
   "cell_type": "code",
   "execution_count": 1,
   "metadata": {},
   "outputs": [
    {
     "name": "stdout",
     "output_type": "stream",
     "text": [
      "Hola Mundo\n",
      "Hola mundo\n",
      "Hola\n",
      "      \n",
      "      Mundo\n"
     ]
    }
   ],
   "source": [
    "print('Hola Mundo')\n",
    "print(\"Hola mundo\")\n",
    "print(\"\"\"Hola\n",
    "      \n",
    "      Mundo\"\"\")"
   ]
  },
  {
   "cell_type": "markdown",
   "id": "40f40982",
   "metadata": {},
   "source": [
    "# 1.2. Comneetarios\n",
    "\n",
    "* Se puede comnetar usando # o de igual manera se puede comentar usando \"\"\" \"\"\"\n",
    "* Los comentarios no afectan la funcionalidad del código si se ponen de la manera correcta"
   ]
  },
  {
   "cell_type": "code",
   "execution_count": 2,
   "id": "541cd6fb",
   "metadata": {},
   "outputs": [
    {
     "name": "stdout",
     "output_type": "stream",
     "text": [
      "hola mundo\n"
     ]
    }
   ],
   "source": [
    "print(\"hola mundo\") # esto es un comentario"
   ]
  },
  {
   "cell_type": "code",
   "execution_count": 3,
   "id": "85d81889",
   "metadata": {},
   "outputs": [
    {
     "name": "stdout",
     "output_type": "stream",
     "text": [
      "Hola mundo\n"
     ]
    }
   ],
   "source": [
    "\"\"\"\n",
    "    esto es un comentario, sin\n",
    "    afectar al codigo\n",
    "\"\"\"\n",
    "print(\"Hola mundo\")"
   ]
  },
  {
   "cell_type": "markdown",
   "id": "bd39b4da",
   "metadata": {},
   "source": [
    "## 1.3 Pakages and modules\n",
    "\n",
    "- A packaege is a directory that contains modules\n",
    "- A module is a file that have code\n",
    "    - A package can have sub-modules"
   ]
  },
  {
   "cell_type": "code",
   "execution_count": 5,
   "id": "2c180341",
   "metadata": {},
   "outputs": [
    {
     "data": {
      "text/plain": [
       "'d:\\\\python-Huawei-course\\\\python_course'"
      ]
     },
     "execution_count": 5,
     "metadata": {},
     "output_type": "execute_result"
    }
   ],
   "source": [
    "import os # import os module\n",
    "os.getcwd() # the actual directory"
   ]
  },
  {
   "cell_type": "code",
   "execution_count": 7,
   "id": "da2a7c52",
   "metadata": {},
   "outputs": [
    {
     "data": {
      "text/plain": [
       "'d:\\\\python-Huawei-course\\\\python_course'"
      ]
     },
     "execution_count": 7,
     "metadata": {},
     "output_type": "execute_result"
    }
   ],
   "source": [
    "from os import getcwd # import getcwd method of os\n",
    "getcwd()"
   ]
  },
  {
   "cell_type": "markdown",
   "id": "839c84d3",
   "metadata": {},
   "source": [
    "### If a packege have a complex name you can talk an alias"
   ]
  },
  {
   "cell_type": "code",
   "execution_count": 8,
   "id": "fde7d176",
   "metadata": {},
   "outputs": [],
   "source": [
    "import numbers as num"
   ]
  },
  {
   "cell_type": "markdown",
   "id": "ef9ff582",
   "metadata": {},
   "source": [
    "## 1.4 Variables\n",
    "\n",
    "- A variable contains data values. This is named location used to store data in the memory"
   ]
  },
  {
   "cell_type": "code",
   "execution_count": 9,
   "id": "fe0e4420",
   "metadata": {},
   "outputs": [
    {
     "name": "stdout",
     "output_type": "stream",
     "text": [
      "1\n"
     ]
    }
   ],
   "source": [
    "a = 1\n",
    "print(a)"
   ]
  },
  {
   "cell_type": "markdown",
   "id": "ed00cf50",
   "metadata": {},
   "source": [
    "### The value of a variable can be changed latter in the program"
   ]
  },
  {
   "cell_type": "code",
   "execution_count": 10,
   "id": "51ed63c3",
   "metadata": {},
   "outputs": [
    {
     "name": "stdout",
     "output_type": "stream",
     "text": [
      "2\n"
     ]
    }
   ],
   "source": [
    "a = 2\n",
    "print(a)"
   ]
  },
  {
   "cell_type": "markdown",
   "id": "8c4a70fa",
   "metadata": {},
   "source": [
    "## 1.5 Narming and roules"
   ]
  },
  {
   "cell_type": "markdown",
   "id": "0826111e",
   "metadata": {},
   "source": [
    "### 1.5.1 Narming rules\n",
    "* Varieble names should have a combination of letters in lowcase (a to z) or uppercase (A to Z) or digigits (0 to 9) or an undescore(_)"
   ]
  },
  {
   "cell_type": "code",
   "execution_count": 1,
   "id": "e7277baf",
   "metadata": {},
   "outputs": [],
   "source": [
    "aA9_ = 1"
   ]
  },
  {
   "cell_type": "markdown",
   "id": "78e36096",
   "metadata": {},
   "source": [
    "* Create a name that make sense."
   ]
  },
  {
   "cell_type": "code",
   "execution_count": 2,
   "id": "a0f11e40",
   "metadata": {},
   "outputs": [],
   "source": [
    "wasd = 100\n",
    "price = 100"
   ]
  },
  {
   "cell_type": "markdown",
   "id": "492fc00b",
   "metadata": {},
   "source": [
    "* if you want to create a variable a name having two words, use unederscore to separate them."
   ]
  },
  {
   "cell_type": "code",
   "execution_count": 3,
   "id": "664ade82",
   "metadata": {},
   "outputs": [],
   "source": [
    "number_of_cats = 6"
   ]
  },
  {
   "cell_type": "markdown",
   "id": "b25230e3",
   "metadata": {},
   "source": [
    "* Don't start a variable name with a digit"
   ]
  },
  {
   "cell_type": "code",
   "execution_count": 4,
   "id": "f76dcfd9",
   "metadata": {},
   "outputs": [
    {
     "ename": "SyntaxError",
     "evalue": "invalid decimal literal (4001840069.py, line 1)",
     "output_type": "error",
     "traceback": [
      "\u001b[1;36m  Cell \u001b[1;32mIn[4], line 1\u001b[1;36m\u001b[0m\n\u001b[1;33m    1a = 1 # Incorrect variable names\u001b[0m\n\u001b[1;37m    ^\u001b[0m\n\u001b[1;31mSyntaxError\u001b[0m\u001b[1;31m:\u001b[0m invalid decimal literal\n"
     ]
    }
   ],
   "source": [
    "1a = 1 # Incorrect variable names"
   ]
  },
  {
   "cell_type": "markdown",
   "id": "0b12fa4e",
   "metadata": {},
   "source": [
    "### 1.5.2 Keywords\n",
    "\n",
    "* Keywords are the reserved words in Python. They cabbot be used as ordinary identifers and must be spelled exaxtly.\n",
    "\n",
    "* There are 35 keywords in python"
   ]
  },
  {
   "cell_type": "code",
   "execution_count": 5,
   "id": "63536a5b",
   "metadata": {},
   "outputs": [
    {
     "ename": "SyntaxError",
     "evalue": "invalid syntax (1227199576.py, line 1)",
     "output_type": "error",
     "traceback": [
      "\u001b[1;36m  Cell \u001b[1;32mIn[5], line 1\u001b[1;36m\u001b[0m\n\u001b[1;33m    def = 1 # when a variable name is a keyword\u001b[0m\n\u001b[1;37m        ^\u001b[0m\n\u001b[1;31mSyntaxError\u001b[0m\u001b[1;31m:\u001b[0m invalid syntax\n"
     ]
    }
   ],
   "source": [
    "def = 1 # when a variable name is a keyword"
   ]
  },
  {
   "cell_type": "code",
   "execution_count": 6,
   "id": "5c8d48c8",
   "metadata": {},
   "outputs": [
    {
     "data": {
      "text/plain": [
       "['False',\n",
       " 'None',\n",
       " 'True',\n",
       " 'and',\n",
       " 'as',\n",
       " 'assert',\n",
       " 'async',\n",
       " 'await',\n",
       " 'break',\n",
       " 'class',\n",
       " 'continue',\n",
       " 'def',\n",
       " 'del',\n",
       " 'elif',\n",
       " 'else',\n",
       " 'except',\n",
       " 'finally',\n",
       " 'for',\n",
       " 'from',\n",
       " 'global',\n",
       " 'if',\n",
       " 'import',\n",
       " 'in',\n",
       " 'is',\n",
       " 'lambda',\n",
       " 'nonlocal',\n",
       " 'not',\n",
       " 'or',\n",
       " 'pass',\n",
       " 'raise',\n",
       " 'return',\n",
       " 'try',\n",
       " 'while',\n",
       " 'with',\n",
       " 'yield']"
      ]
     },
     "execution_count": 6,
     "metadata": {},
     "output_type": "execute_result"
    }
   ],
   "source": [
    "import keyword\n",
    "keyword.kwlist"
   ]
  },
  {
   "cell_type": "code",
   "execution_count": 7,
   "id": "bdd08b7e",
   "metadata": {},
   "outputs": [
    {
     "name": "stdout",
     "output_type": "stream",
     "text": [
      "\n",
      "Here is a list of the Python keywords.  Enter any keyword to get more help.\n",
      "\n",
      "False               class               from                or\n",
      "None                continue            global              pass\n",
      "True                def                 if                  raise\n",
      "and                 del                 import              return\n",
      "as                  elif                in                  try\n",
      "assert              else                is                  while\n",
      "async               except              lambda              with\n",
      "await               finally             nonlocal            yield\n",
      "break               for                 not                 \n",
      "\n"
     ]
    }
   ],
   "source": [
    "help(\"keywords\")"
   ]
  },
  {
   "cell_type": "markdown",
   "id": "593867d3",
   "metadata": {},
   "source": [
    "### 1.6 Switching Values"
   ]
  },
  {
   "cell_type": "code",
   "execution_count": 1,
   "id": "8d7c3374",
   "metadata": {},
   "outputs": [
    {
     "name": "stdout",
     "output_type": "stream",
     "text": [
      "1\n",
      "2\n"
     ]
    }
   ],
   "source": [
    "a = 1\n",
    "b = 2\n",
    "print(a)\n",
    "print(b)"
   ]
  },
  {
   "cell_type": "code",
   "execution_count": 2,
   "id": "9f939ac2",
   "metadata": {},
   "outputs": [
    {
     "name": "stdout",
     "output_type": "stream",
     "text": [
      "2\n",
      "1\n"
     ]
    }
   ],
   "source": [
    "a,b = b,a\n",
    "print(a)\n",
    "print(b)"
   ]
  },
  {
   "cell_type": "markdown",
   "id": "7b3f7f86",
   "metadata": {},
   "source": [
    "### 1.7 Excution order in python\n",
    "* From top bottom:"
   ]
  },
  {
   "cell_type": "code",
   "execution_count": 3,
   "id": "abe6b7dc",
   "metadata": {},
   "outputs": [
    {
     "ename": "NameError",
     "evalue": "name 'y' is not defined",
     "output_type": "error",
     "traceback": [
      "\u001b[1;31m---------------------------------------------------------------------------\u001b[0m",
      "\u001b[1;31mNameError\u001b[0m                                 Traceback (most recent call last)",
      "\u001b[1;32md:\\python-Huawei-course\\python_course\\lab1.ipynb Cell 32\u001b[0m line \u001b[0;36m2\n\u001b[0;32m      <a href='vscode-notebook-cell:/d%3A/python-Huawei-course/python_course/lab1.ipynb#X43sZmlsZQ%3D%3D?line=0'>1</a>\u001b[0m x \u001b[39m=\u001b[39m \u001b[39m0\u001b[39m\n\u001b[1;32m----> <a href='vscode-notebook-cell:/d%3A/python-Huawei-course/python_course/lab1.ipynb#X43sZmlsZQ%3D%3D?line=1'>2</a>\u001b[0m \u001b[39mprint\u001b[39m(x\u001b[39m+\u001b[39my)\n\u001b[0;32m      <a href='vscode-notebook-cell:/d%3A/python-Huawei-course/python_course/lab1.ipynb#X43sZmlsZQ%3D%3D?line=2'>3</a>\u001b[0m y \u001b[39m=\u001b[39m \u001b[39m1\u001b[39m \n",
      "\u001b[1;31mNameError\u001b[0m: name 'y' is not defined"
     ]
    }
   ],
   "source": [
    "x = 0\n",
    "print(x+y)\n",
    "y = 1 "
   ]
  },
  {
   "cell_type": "markdown",
   "id": "df793b0f",
   "metadata": {},
   "source": [
    "### 1.8 Indentation\n",
    " * A code Block (body of a function, loop, etc.) starts with indentantion and ends with the first unindented line.\n",
    " * The number of space of to be indented is up to you, but it must be, consistet throughout that block.\n",
    " * Indentatuib makes Python code look, neat and clean. This also makes Python code look similar and consistent."
   ]
  },
  {
   "cell_type": "code",
   "execution_count": 10,
   "id": "53713369",
   "metadata": {},
   "outputs": [],
   "source": [
    "def func1():\n",
    "    a = 1\n",
    "    b = 2\n",
    "\n",
    "def func2():\n",
    "    a = 2\n",
    "    b = 3"
   ]
  },
  {
   "cell_type": "markdown",
   "id": "c7797e49",
   "metadata": {},
   "source": [
    "### 1.9 Global variables and Local variables\n",
    "\n",
    "* Global variables are variables declared in a global scope (code blook without indentation).\n",
    "* Local variables are variables declared in local scope (code block with indentation)"
   ]
  },
  {
   "cell_type": "code",
   "execution_count": 11,
   "id": "ab465066",
   "metadata": {},
   "outputs": [
    {
     "name": "stdout",
     "output_type": "stream",
     "text": [
      "4\n"
     ]
    }
   ],
   "source": [
    "a = 1 # global variables\n",
    "\n",
    "def function(): # define a function\n",
    "    f = 2 # Local variable\n",
    "\n",
    "c = 3\n",
    "print(a + c)"
   ]
  },
  {
   "cell_type": "code",
   "execution_count": 12,
   "id": "b2c15d44",
   "metadata": {},
   "outputs": [
    {
     "ename": "NameError",
     "evalue": "name 'f' is not defined",
     "output_type": "error",
     "traceback": [
      "\u001b[1;31m---------------------------------------------------------------------------\u001b[0m",
      "\u001b[1;31mNameError\u001b[0m                                 Traceback (most recent call last)",
      "\u001b[1;32md:\\python-Huawei-course\\python_course\\lab1.ipynb Cell 37\u001b[0m line \u001b[0;36m1\n\u001b[1;32m----> <a href='vscode-notebook-cell:/d%3A/python-Huawei-course/python_course/lab1.ipynb#X52sZmlsZQ%3D%3D?line=0'>1</a>\u001b[0m \u001b[39mprint\u001b[39m(a\u001b[39m+\u001b[39mf)\n",
      "\u001b[1;31mNameError\u001b[0m: name 'f' is not defined"
     ]
    }
   ],
   "source": [
    "print(a+f)"
   ]
  },
  {
   "cell_type": "markdown",
   "id": "6178840c",
   "metadata": {},
   "source": [
    "### 1.10 Standard I/O\n",
    "\n",
    "* To read from standard input, use input() function\n",
    "* To write standard output, use print() function"
   ]
  },
  {
   "cell_type": "code",
   "execution_count": 13,
   "id": "9e23df9a",
   "metadata": {},
   "outputs": [
    {
     "name": "stdout",
     "output_type": "stream",
     "text": [
      "Hola mundo\n"
     ]
    }
   ],
   "source": [
    "s = input(\"input: \")\n",
    "print(s)"
   ]
  },
  {
   "cell_type": "markdown",
   "id": "6ca65f66",
   "metadata": {},
   "source": [
    "### 1.11 Python Basic Functions\n",
    "\n",
    "#### 1.11.1 help() function\n",
    "\n",
    "* The python help function is used to display the documentation of modules, functions, clasees, keywords, etc."
   ]
  },
  {
   "cell_type": "code",
   "execution_count": 14,
   "id": "26dc64c0",
   "metadata": {},
   "outputs": [
    {
     "name": "stdout",
     "output_type": "stream",
     "text": [
      "Help on built-in function print in module builtins:\n",
      "\n",
      "print(*args, sep=' ', end='\\n', file=None, flush=False)\n",
      "    Prints the values to a stream, or to sys.stdout by default.\n",
      "    \n",
      "    sep\n",
      "      string inserted between values, default a space.\n",
      "    end\n",
      "      string appended after the last value, default a newline.\n",
      "    file\n",
      "      a file-like object (stream); defaults to the current sys.stdout.\n",
      "    flush\n",
      "      whether to forcibly flush the stream.\n",
      "\n"
     ]
    }
   ],
   "source": [
    "help(print)"
   ]
  },
  {
   "cell_type": "markdown",
   "id": "62c07d32",
   "metadata": {},
   "source": [
    "#### 1.11.2 id() funtion\n",
    "\n",
    "* id funtion retunrs the \"identity\" of object. This is an interger which is guaranteed to be unique and constant for this object during its lifetime"
   ]
  },
  {
   "cell_type": "code",
   "execution_count": 15,
   "id": "c2c77f99",
   "metadata": {},
   "outputs": [
    {
     "data": {
      "text/plain": [
       "1668781941808"
      ]
     },
     "execution_count": 15,
     "metadata": {},
     "output_type": "execute_result"
    }
   ],
   "source": [
    "a = 1\n",
    "id(print)"
   ]
  },
  {
   "cell_type": "markdown",
   "id": "b4c5d5bf",
   "metadata": {},
   "source": [
    "#### 1.11.3 type() funciton"
   ]
  },
  {
   "cell_type": "code",
   "execution_count": 16,
   "id": "3130b19b",
   "metadata": {},
   "outputs": [
    {
     "data": {
      "text/plain": [
       "int"
      ]
     },
     "execution_count": 16,
     "metadata": {},
     "output_type": "execute_result"
    }
   ],
   "source": [
    "a = 1\n",
    "type(a)"
   ]
  }
 ],
 "metadata": {
  "kernelspec": {
   "display_name": "python_course",
   "language": "python",
   "name": "python3"
  },
  "language_info": {
   "codemirror_mode": {
    "name": "ipython",
    "version": 3
   },
   "file_extension": ".py",
   "mimetype": "text/x-python",
   "name": "python",
   "nbconvert_exporter": "python",
   "pygments_lexer": "ipython3",
   "version": "3.11.5"
  }
 },
 "nbformat": 4,
 "nbformat_minor": 5
}
