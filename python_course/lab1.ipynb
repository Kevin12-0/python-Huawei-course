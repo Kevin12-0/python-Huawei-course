{
 "cells": [
  {
   "cell_type": "markdown",
   "id": "f6eff51b",
   "metadata": {},
   "source": [
    "# 1. Python basic\n",
    "\n",
    "## Usando la funcion print() para imprimir hola mundo de diferentes maneras"
   ]
  },
  {
   "cell_type": "code",
   "execution_count": 1,
   "metadata": {},
   "outputs": [
    {
     "name": "stdout",
     "output_type": "stream",
     "text": [
      "Hola Mundo\n",
      "Hola mundo\n",
      "Hola\n",
      "      \n",
      "      Mundo\n"
     ]
    }
   ],
   "source": [
    "print('Hola Mundo')\n",
    "print(\"Hola mundo\")\n",
    "print(\"\"\"Hola\n",
    "      \n",
    "      Mundo\"\"\")"
   ]
  },
  {
   "cell_type": "markdown",
   "id": "40f40982",
   "metadata": {},
   "source": [
    "# 1.2. Comneetarios\n",
    "\n",
    "* Se puede comnetar usando # o de igual manera se puede comentar usando \"\"\" \"\"\"\n",
    "* Los comentarios no afectan la funcionalidad del código si se ponen de la manera correcta"
   ]
  },
  {
   "cell_type": "code",
   "execution_count": 2,
   "id": "541cd6fb",
   "metadata": {},
   "outputs": [
    {
     "name": "stdout",
     "output_type": "stream",
     "text": [
      "hola mundo\n"
     ]
    }
   ],
   "source": [
    "print(\"hola mundo\") # esto es un comentario"
   ]
  },
  {
   "cell_type": "code",
   "execution_count": 3,
   "id": "85d81889",
   "metadata": {},
   "outputs": [
    {
     "name": "stdout",
     "output_type": "stream",
     "text": [
      "Hola mundo\n"
     ]
    }
   ],
   "source": [
    "\"\"\"\n",
    "    esto es un comentario, sin\n",
    "    afectar al codigo\n",
    "\"\"\"\n",
    "print(\"Hola mundo\")"
   ]
  },
  {
   "cell_type": "markdown",
   "id": "bd39b4da",
   "metadata": {},
   "source": [
    "## 1.3 Pakages and modules\n",
    "\n",
    "- A packaege is a directory that contains modules\n",
    "- A module is a file that have code\n",
    "    - A package can have sub-modules"
   ]
  },
  {
   "cell_type": "code",
   "execution_count": 5,
   "id": "2c180341",
   "metadata": {},
   "outputs": [
    {
     "data": {
      "text/plain": [
       "'d:\\\\python-Huawei-course\\\\python_course'"
      ]
     },
     "execution_count": 5,
     "metadata": {},
     "output_type": "execute_result"
    }
   ],
   "source": [
    "import os # import os module\n",
    "os.getcwd() # the actual directory"
   ]
  },
  {
   "cell_type": "code",
   "execution_count": 7,
   "id": "da2a7c52",
   "metadata": {},
   "outputs": [
    {
     "data": {
      "text/plain": [
       "'d:\\\\python-Huawei-course\\\\python_course'"
      ]
     },
     "execution_count": 7,
     "metadata": {},
     "output_type": "execute_result"
    }
   ],
   "source": [
    "from os import getcwd # import getcwd method of os\n",
    "getcwd()"
   ]
  },
  {
   "cell_type": "markdown",
   "id": "839c84d3",
   "metadata": {},
   "source": [
    "### If a packege have a complex name you can talk an alias"
   ]
  },
  {
   "cell_type": "code",
   "execution_count": 8,
   "id": "fde7d176",
   "metadata": {},
   "outputs": [],
   "source": [
    "import numbers as num"
   ]
  },
  {
   "cell_type": "markdown",
   "id": "ef9ff582",
   "metadata": {},
   "source": [
    "## 1.4 Variables\n",
    "\n",
    "- A variable contains data values. This is named location used to store data in the memory"
   ]
  },
  {
   "cell_type": "code",
   "execution_count": 9,
   "id": "fe0e4420",
   "metadata": {},
   "outputs": [
    {
     "name": "stdout",
     "output_type": "stream",
     "text": [
      "1\n"
     ]
    }
   ],
   "source": [
    "a = 1\n",
    "print(a)"
   ]
  },
  {
   "cell_type": "markdown",
   "id": "ed00cf50",
   "metadata": {},
   "source": [
    "### The value of a variable can be changed latter in the program"
   ]
  },
  {
   "cell_type": "code",
   "execution_count": 10,
   "id": "51ed63c3",
   "metadata": {},
   "outputs": [
    {
     "name": "stdout",
     "output_type": "stream",
     "text": [
      "2\n"
     ]
    }
   ],
   "source": [
    "a = 2\n",
    "print(a)"
   ]
  }
 ],
 "metadata": {
  "kernelspec": {
   "display_name": "python_course",
   "language": "python",
   "name": "python3"
  },
  "language_info": {
   "codemirror_mode": {
    "name": "ipython",
    "version": 3
   },
   "file_extension": ".py",
   "mimetype": "text/x-python",
   "name": "python",
   "nbconvert_exporter": "python",
   "pygments_lexer": "ipython3",
   "version": "3.11.5"
  }
 },
 "nbformat": 4,
 "nbformat_minor": 5
}
